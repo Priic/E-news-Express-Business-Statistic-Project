{
 "cells": [
  {
   "cell_type": "markdown",
   "id": "6yDxo9u0d9Na",
   "metadata": {
    "id": "6yDxo9u0d9Na"
   },
   "source": [
    "# Project Business Statistics: E-news Express\n"
   ]
  },
  {
   "cell_type": "markdown",
   "id": "SrLd-ICEmPSD",
   "metadata": {
    "id": "SrLd-ICEmPSD"
   },
   "source": [
    "## Define Problem Statement and Objectives"
   ]
  },
  {
   "cell_type": "markdown",
   "id": "03c2e5a9-080f-4607-bb6d-57c23101884e",
   "metadata": {},
   "source": [
    "## Business Context\n",
    "\n",
    "The advent of e-news, or electronic news, portals has offered us a great opportunity to quickly get updates on the day-to-day events occurring globally. The information on these portals is retrieved electronically from online databases, processed using a variety of software, and then transmitted to the users. There are multiple advantages of transmitting new electronically, like faster access to the content and the ability to utilize different technologies such as audio, graphics, video, and other interactive elements that are either not being used or aren’t common yet in traditional newspapers.\n",
    "\n",
    "E-news Express, an online news portal, aims to expand its business by acquiring new subscribers. With every visitor to the website taking certain actions based on their interest, the company plans to analyze these actions to understand user interests and determine how to drive better engagement.  The executives at E-news Express are of the opinion that there has been a decline in new monthly subscribers compared to the past year because the current webpage is not designed well enough in terms of the outline & recommended content to keep customers engaged long enough to make a decision to subscribe.\n",
    "\n",
    "[Companies often analyze user responses to two variants of a product to decide which of the two variants is more effective. This experimental technique, known as A/B testing, is used to determine whether a new feature attracts users based on a chosen metric.]\n",
    "\n",
    "\n",
    "## Objective\n",
    "\n",
    "The design team of the company has researched and created a new landing page that has a new outline & more relevant content shown compared to the old page. In order to test the effectiveness of the new landing page in gathering new subscribers, the Data Science team conducted an experiment by randomly selecting 100 users and dividing them equally into two groups. The existing landing page was served to the first group (control group) and the new landing page to the second group (treatment group). Data regarding the interaction of users in both groups with the two versions of the landing page was collected. Being a data scientist in E-news Express, you have been asked to explore the data and perform a statistical analysis (at a significance level of 5%) to determine the effectiveness of the new landing page in gathering new subscribers for the news portal by answering the following questions:\n",
    "\n",
    "1. Do the users spend more time on the new landing page than on the existing landing page?\n",
    "\n",
    "2. Is the conversion rate (the proportion of users who visit the landing page and get converted) for the new page greater than the conversion rate for the old page?\n",
    "\n",
    "3. Does the converted status depend on the preferred language? [Hint: Create a contingency table using the pandas.crosstab() function]\n",
    "\n",
    "4. Is the time spent on the new page the same for the different language users?\n",
    "\n",
    "\n",
    "## Data Dictionary\n",
    "\n",
    "The data contains information regarding the interaction of users in both groups with the two versions of the landing page.\n",
    "\n",
    "1. user_id - Unique user ID of the person visiting the website\n",
    "\n",
    "2. group - Whether the user belongs to the first group (control) or the second group (treatment)\n",
    "\n",
    "3. landing_page - Whether the landing page is new or old\n",
    "\n",
    "4. time_spent_on_the_page - Time (in minutes) spent by the user on the landing page\n",
    "\n",
    "5. converted - Whether the user gets converted to a subscriber of the news portal or not\n",
    "\n",
    "6. language_preferred - Language chosen by the user to view the landing page"
   ]
  },
  {
   "cell_type": "markdown",
   "id": "a6a3d218",
   "metadata": {
    "id": "a6a3d218"
   },
   "source": [
    "## Import all the necessary libraries"
   ]
  },
  {
   "cell_type": "code",
   "execution_count": 3054,
   "id": "r_5zUIePGS-1",
   "metadata": {
    "id": "r_5zUIePGS-1"
   },
   "outputs": [],
   "source": [
    "# Installing the libraries with the specified version.\n",
    "#!pip install numpy==1.25.2 pandas==1.5.3 matplotlib==3.7.1 seaborn==0.13.1 scipy==1.11.4 -q --user"
   ]
  },
  {
   "cell_type": "markdown",
   "id": "b2ce6f05-84d1-4d8f-a90e-edfdcb17dd9d",
   "metadata": {},
   "source": [
    "*Commenting the above code, as these are older version and throws an error*"
   ]
  },
  {
   "cell_type": "markdown",
   "id": "DAaycw-QP-j9",
   "metadata": {
    "id": "DAaycw-QP-j9"
   },
   "source": [
    "**Note**: *After running the above cell, kindly restart the notebook kernel and run all cells sequentially from the start again.*"
   ]
  },
  {
   "cell_type": "code",
   "execution_count": 3057,
   "id": "a0e3f601-c0c3-41ae-b150-c69c33e95f51",
   "metadata": {
    "id": "658c5dec"
   },
   "outputs": [],
   "source": [
    "# import libraries for data manipulation\n",
    "import numpy as np\n",
    "import pandas as pd\n",
    "\n",
    "# import libraries for data visualization\n",
    "import matplotlib.pyplot as plt\n",
    "import seaborn as sns\n",
    "\n",
    "# Command to tell Python to actually display the graphs\n",
    "%matplotlib inline\n",
    "\n",
    "# import library to perform statistical computation.It's a growing library of statistical functions and contains large number of probability distributions \n",
    "import scipy.stats as stats"
   ]
  },
  {
   "cell_type": "markdown",
   "id": "19597e9c-b91f-4ac7-8991-f3517f40a772",
   "metadata": {},
   "source": [
    "## Reading the Data into a DataFrame"
   ]
  },
  {
   "cell_type": "code",
   "execution_count": 3059,
   "id": "e424d4b5-ee11-4de8-bc26-517658e2fb49",
   "metadata": {},
   "outputs": [],
   "source": [
    "# To run the following lines for Google Colab, uncomment this code of lines\n",
    "# from google.colab import drive\n",
    "# drive.mount('/content/drive')"
   ]
  },
  {
   "cell_type": "code",
   "execution_count": 3060,
   "id": "8bb368f5-dc4b-48f3-961e-8ab5086e8afe",
   "metadata": {},
   "outputs": [],
   "source": [
    "#loading and reading the required dataset into Dataframe from jupyter notebook\n",
    "df=pd.read_csv('abtest.csv')"
   ]
  },
  {
   "cell_type": "code",
   "execution_count": 3061,
   "id": "02372d49-656a-4079-b634-d54351fffb59",
   "metadata": {},
   "outputs": [],
   "source": [
    "#make a copy of dataset\n",
    "df_copy=df.copy()\n"
   ]
  },
  {
   "cell_type": "markdown",
   "id": "9d75cfa2",
   "metadata": {
    "id": "9d75cfa2"
   },
   "source": [
    "## Explore the dataset and extract insights using Exploratory Data Analysis"
   ]
  },
  {
   "cell_type": "markdown",
   "id": "27201534",
   "metadata": {
    "id": "27201534"
   },
   "source": [
    "- Data Overview\n",
    "  - Viewing the first and last few rows of the dataset\n",
    "  - Checking the shape of the dataset\n",
    "  - Getting the statistical summary for the variables\n",
    "- Check for missing values\n",
    "- Check for duplicates"
   ]
  },
  {
   "cell_type": "markdown",
   "id": "ce202d1b-d467-421b-93ab-457d0a194e89",
   "metadata": {},
   "source": [
    "### Data Overview"
   ]
  },
  {
   "cell_type": "markdown",
   "id": "57a534d4-4e39-4a2f-a3f0-378cc817ff18",
   "metadata": {},
   "source": [
    "#### Displaying the first 5 rows of the dataset"
   ]
  },
  {
   "cell_type": "code",
   "execution_count": 3066,
   "id": "08703af7-84fe-415e-b712-73027cb9ab7e",
   "metadata": {},
   "outputs": [
    {
     "data": {
      "text/html": [
       "<div>\n",
       "<style scoped>\n",
       "    .dataframe tbody tr th:only-of-type {\n",
       "        vertical-align: middle;\n",
       "    }\n",
       "\n",
       "    .dataframe tbody tr th {\n",
       "        vertical-align: top;\n",
       "    }\n",
       "\n",
       "    .dataframe thead th {\n",
       "        text-align: right;\n",
       "    }\n",
       "</style>\n",
       "<table border=\"1\" class=\"dataframe\">\n",
       "  <thead>\n",
       "    <tr style=\"text-align: right;\">\n",
       "      <th></th>\n",
       "      <th>user_id</th>\n",
       "      <th>group</th>\n",
       "      <th>landing_page</th>\n",
       "      <th>time_spent_on_the_page</th>\n",
       "      <th>converted</th>\n",
       "      <th>language_preferred</th>\n",
       "    </tr>\n",
       "  </thead>\n",
       "  <tbody>\n",
       "    <tr>\n",
       "      <th>0</th>\n",
       "      <td>546592</td>\n",
       "      <td>control</td>\n",
       "      <td>old</td>\n",
       "      <td>3.480</td>\n",
       "      <td>no</td>\n",
       "      <td>Spanish</td>\n",
       "    </tr>\n",
       "    <tr>\n",
       "      <th>1</th>\n",
       "      <td>546468</td>\n",
       "      <td>treatment</td>\n",
       "      <td>new</td>\n",
       "      <td>7.130</td>\n",
       "      <td>yes</td>\n",
       "      <td>English</td>\n",
       "    </tr>\n",
       "    <tr>\n",
       "      <th>2</th>\n",
       "      <td>546462</td>\n",
       "      <td>treatment</td>\n",
       "      <td>new</td>\n",
       "      <td>4.400</td>\n",
       "      <td>no</td>\n",
       "      <td>Spanish</td>\n",
       "    </tr>\n",
       "    <tr>\n",
       "      <th>3</th>\n",
       "      <td>546567</td>\n",
       "      <td>control</td>\n",
       "      <td>old</td>\n",
       "      <td>3.020</td>\n",
       "      <td>no</td>\n",
       "      <td>French</td>\n",
       "    </tr>\n",
       "    <tr>\n",
       "      <th>4</th>\n",
       "      <td>546459</td>\n",
       "      <td>treatment</td>\n",
       "      <td>new</td>\n",
       "      <td>4.750</td>\n",
       "      <td>yes</td>\n",
       "      <td>Spanish</td>\n",
       "    </tr>\n",
       "  </tbody>\n",
       "</table>\n",
       "</div>"
      ],
      "text/plain": [
       "   user_id      group landing_page  time_spent_on_the_page converted  \\\n",
       "0   546592    control          old                   3.480        no   \n",
       "1   546468  treatment          new                   7.130       yes   \n",
       "2   546462  treatment          new                   4.400        no   \n",
       "3   546567    control          old                   3.020        no   \n",
       "4   546459  treatment          new                   4.750       yes   \n",
       "\n",
       "  language_preferred  \n",
       "0            Spanish  \n",
       "1            English  \n",
       "2            Spanish  \n",
       "3             French  \n",
       "4            Spanish  "
      ]
     },
     "execution_count": 3066,
     "metadata": {},
     "output_type": "execute_result"
    }
   ],
   "source": [
    "#read first 5 dataset using head() function\n",
    "df.head()"
   ]
  },
  {
   "cell_type": "markdown",
   "id": "6b15df36-362f-4250-8a8a-45ce2614ed0b",
   "metadata": {},
   "source": [
    "The `head()` function will display first 5 rows of the Enews_Express dataset here."
   ]
  },
  {
   "cell_type": "markdown",
   "id": "5456dd88-8b3f-4d36-9c68-892e43bf2981",
   "metadata": {},
   "source": [
    "#### Displaying random 5 rows of the dataset"
   ]
  },
  {
   "cell_type": "code",
   "execution_count": 3069,
   "id": "ff85115b-394c-46b5-80b1-09692a621dbd",
   "metadata": {},
   "outputs": [
    {
     "data": {
      "text/html": [
       "<div>\n",
       "<style scoped>\n",
       "    .dataframe tbody tr th:only-of-type {\n",
       "        vertical-align: middle;\n",
       "    }\n",
       "\n",
       "    .dataframe tbody tr th {\n",
       "        vertical-align: top;\n",
       "    }\n",
       "\n",
       "    .dataframe thead th {\n",
       "        text-align: right;\n",
       "    }\n",
       "</style>\n",
       "<table border=\"1\" class=\"dataframe\">\n",
       "  <thead>\n",
       "    <tr style=\"text-align: right;\">\n",
       "      <th></th>\n",
       "      <th>user_id</th>\n",
       "      <th>group</th>\n",
       "      <th>landing_page</th>\n",
       "      <th>time_spent_on_the_page</th>\n",
       "      <th>converted</th>\n",
       "      <th>language_preferred</th>\n",
       "    </tr>\n",
       "  </thead>\n",
       "  <tbody>\n",
       "    <tr>\n",
       "      <th>74</th>\n",
       "      <td>546591</td>\n",
       "      <td>control</td>\n",
       "      <td>old</td>\n",
       "      <td>4.870</td>\n",
       "      <td>no</td>\n",
       "      <td>Spanish</td>\n",
       "    </tr>\n",
       "    <tr>\n",
       "      <th>78</th>\n",
       "      <td>546486</td>\n",
       "      <td>treatment</td>\n",
       "      <td>new</td>\n",
       "      <td>9.120</td>\n",
       "      <td>yes</td>\n",
       "      <td>French</td>\n",
       "    </tr>\n",
       "    <tr>\n",
       "      <th>37</th>\n",
       "      <td>546557</td>\n",
       "      <td>control</td>\n",
       "      <td>old</td>\n",
       "      <td>6.040</td>\n",
       "      <td>yes</td>\n",
       "      <td>English</td>\n",
       "    </tr>\n",
       "    <tr>\n",
       "      <th>23</th>\n",
       "      <td>546475</td>\n",
       "      <td>treatment</td>\n",
       "      <td>new</td>\n",
       "      <td>7.020</td>\n",
       "      <td>yes</td>\n",
       "      <td>English</td>\n",
       "    </tr>\n",
       "    <tr>\n",
       "      <th>27</th>\n",
       "      <td>546586</td>\n",
       "      <td>control</td>\n",
       "      <td>old</td>\n",
       "      <td>4.050</td>\n",
       "      <td>no</td>\n",
       "      <td>Spanish</td>\n",
       "    </tr>\n",
       "  </tbody>\n",
       "</table>\n",
       "</div>"
      ],
      "text/plain": [
       "    user_id      group landing_page  time_spent_on_the_page converted  \\\n",
       "74   546591    control          old                   4.870        no   \n",
       "78   546486  treatment          new                   9.120       yes   \n",
       "37   546557    control          old                   6.040       yes   \n",
       "23   546475  treatment          new                   7.020       yes   \n",
       "27   546586    control          old                   4.050        no   \n",
       "\n",
       "   language_preferred  \n",
       "74            Spanish  \n",
       "78             French  \n",
       "37            English  \n",
       "23            English  \n",
       "27            Spanish  "
      ]
     },
     "execution_count": 3069,
     "metadata": {},
     "output_type": "execute_result"
    }
   ],
   "source": [
    "#Display random 5 rows in the dataset using sample(n=5)\n",
    "df.sample(n=5)"
   ]
  },
  {
   "cell_type": "markdown",
   "id": "d323e8b6-b44a-43da-9b6f-302a362ffb79",
   "metadata": {},
   "source": [
    "`sample(n=5) ` function will display any randomly selected 5 rows of the dataset here, instead of fetching first 5 or last 5 rows using head() and tail() functions respectively."
   ]
  },
  {
   "cell_type": "markdown",
   "id": "32b180f1-e097-48cc-9052-a028e5eab249",
   "metadata": {},
   "source": [
    "#### Displaying the last 5 rows of the dataset"
   ]
  },
  {
   "cell_type": "code",
   "execution_count": 3072,
   "id": "259356c5-40c2-458e-b22a-fa8aa7cde981",
   "metadata": {},
   "outputs": [
    {
     "data": {
      "text/html": [
       "<div>\n",
       "<style scoped>\n",
       "    .dataframe tbody tr th:only-of-type {\n",
       "        vertical-align: middle;\n",
       "    }\n",
       "\n",
       "    .dataframe tbody tr th {\n",
       "        vertical-align: top;\n",
       "    }\n",
       "\n",
       "    .dataframe thead th {\n",
       "        text-align: right;\n",
       "    }\n",
       "</style>\n",
       "<table border=\"1\" class=\"dataframe\">\n",
       "  <thead>\n",
       "    <tr style=\"text-align: right;\">\n",
       "      <th></th>\n",
       "      <th>user_id</th>\n",
       "      <th>group</th>\n",
       "      <th>landing_page</th>\n",
       "      <th>time_spent_on_the_page</th>\n",
       "      <th>converted</th>\n",
       "      <th>language_preferred</th>\n",
       "    </tr>\n",
       "  </thead>\n",
       "  <tbody>\n",
       "    <tr>\n",
       "      <th>95</th>\n",
       "      <td>546446</td>\n",
       "      <td>treatment</td>\n",
       "      <td>new</td>\n",
       "      <td>5.150</td>\n",
       "      <td>no</td>\n",
       "      <td>Spanish</td>\n",
       "    </tr>\n",
       "    <tr>\n",
       "      <th>96</th>\n",
       "      <td>546544</td>\n",
       "      <td>control</td>\n",
       "      <td>old</td>\n",
       "      <td>6.520</td>\n",
       "      <td>yes</td>\n",
       "      <td>English</td>\n",
       "    </tr>\n",
       "    <tr>\n",
       "      <th>97</th>\n",
       "      <td>546472</td>\n",
       "      <td>treatment</td>\n",
       "      <td>new</td>\n",
       "      <td>7.070</td>\n",
       "      <td>yes</td>\n",
       "      <td>Spanish</td>\n",
       "    </tr>\n",
       "    <tr>\n",
       "      <th>98</th>\n",
       "      <td>546481</td>\n",
       "      <td>treatment</td>\n",
       "      <td>new</td>\n",
       "      <td>6.200</td>\n",
       "      <td>yes</td>\n",
       "      <td>Spanish</td>\n",
       "    </tr>\n",
       "    <tr>\n",
       "      <th>99</th>\n",
       "      <td>546483</td>\n",
       "      <td>treatment</td>\n",
       "      <td>new</td>\n",
       "      <td>5.860</td>\n",
       "      <td>yes</td>\n",
       "      <td>English</td>\n",
       "    </tr>\n",
       "  </tbody>\n",
       "</table>\n",
       "</div>"
      ],
      "text/plain": [
       "    user_id      group landing_page  time_spent_on_the_page converted  \\\n",
       "95   546446  treatment          new                   5.150        no   \n",
       "96   546544    control          old                   6.520       yes   \n",
       "97   546472  treatment          new                   7.070       yes   \n",
       "98   546481  treatment          new                   6.200       yes   \n",
       "99   546483  treatment          new                   5.860       yes   \n",
       "\n",
       "   language_preferred  \n",
       "95            Spanish  \n",
       "96            English  \n",
       "97            Spanish  \n",
       "98            Spanish  \n",
       "99            English  "
      ]
     },
     "execution_count": 3072,
     "metadata": {},
     "output_type": "execute_result"
    }
   ],
   "source": [
    "#display last 5 rows of the dataset using tail(5)\n",
    "df.tail()  # tail() function will return last 5 rows"
   ]
  },
  {
   "cell_type": "markdown",
   "id": "b3f10f07-44c2-4d13-b45e-47941352b0ce",
   "metadata": {},
   "source": [
    "#### Checking the shape of the dataset"
   ]
  },
  {
   "cell_type": "code",
   "execution_count": 3074,
   "id": "e1ad11d4",
   "metadata": {
    "id": "e1ad11d4"
   },
   "outputs": [
    {
     "name": "stdout",
     "output_type": "stream",
     "text": [
      "There are 100 rows and 6 columns in the given dataset.\n"
     ]
    }
   ],
   "source": [
    "# Using shape attributes we can determine the number of rows and columns present in the dataset\n",
    "df.shape\n",
    "print('There are',df.shape[0],'rows and',df.shape[1],'columns in the given dataset.')"
   ]
  },
  {
   "cell_type": "markdown",
   "id": "611f18a4-d579-465d-82c5-fb03a72c437e",
   "metadata": {},
   "source": [
    "- *There are 100 rows and 6 columns present in the given dataset.*"
   ]
  },
  {
   "cell_type": "markdown",
   "id": "c6b4ed3a-ee2c-4cc2-86fd-ddcf5d7bb81b",
   "metadata": {},
   "source": [
    "#### Checking the data types of the columns"
   ]
  },
  {
   "cell_type": "code",
   "execution_count": 3077,
   "id": "d2dfb9c9-36d7-48a6-9b06-d72b68a0e615",
   "metadata": {},
   "outputs": [
    {
     "name": "stdout",
     "output_type": "stream",
     "text": [
      "<class 'pandas.core.frame.DataFrame'>\n",
      "RangeIndex: 100 entries, 0 to 99\n",
      "Data columns (total 6 columns):\n",
      " #   Column                  Non-Null Count  Dtype  \n",
      "---  ------                  --------------  -----  \n",
      " 0   user_id                 100 non-null    int64  \n",
      " 1   group                   100 non-null    object \n",
      " 2   landing_page            100 non-null    object \n",
      " 3   time_spent_on_the_page  100 non-null    float64\n",
      " 4   converted               100 non-null    object \n",
      " 5   language_preferred      100 non-null    object \n",
      "dtypes: float64(1), int64(1), object(4)\n",
      "memory usage: 4.8+ KB\n"
     ]
    }
   ],
   "source": [
    "#Display datatypes of the different columns using info() function . It also provide informations on missing data in any columns.\n",
    "df.info()"
   ]
  },
  {
   "cell_type": "markdown",
   "id": "4a79fc26-fc59-449e-a23a-6eeb39bdc204",
   "metadata": {},
   "source": [
    "#### Observations:"
   ]
  },
  {
   "cell_type": "markdown",
   "id": "11f5df26-858b-46a0-9230-cbdc2dd02ea0",
   "metadata": {
    "jp-MarkdownHeadingCollapsed": true
   },
   "source": [
    "- *There are `100 rows` and `6 columns` present in the dataset*.\n",
    "- *`user_id` unique identifier(Unique user ID of a person visiting the website) of datatype `int` and ` time_spent_on_the_page` of datatype `float` are       the 2 numerical data columns*\n",
    "- *The remaining 4 data columns `group`,`landing_page` , `converted` and `language_preferred` are categorical data of type `object`and stored as a String*\n",
    "- *There are `100 non-null` values in each columns indicating `no missing` or null values present in the given dataset*\n",
    "- *There are `no duplicates` entries*\n",
    "  "
   ]
  },
  {
   "cell_type": "markdown",
   "id": "e28de6a0-1872-463d-88d1-27883d9f8b15",
   "metadata": {},
   "source": [
    "#### Check for null/missing value"
   ]
  },
  {
   "cell_type": "code",
   "execution_count": 3081,
   "id": "80445bfb-f6a3-4ecd-b7c7-af33ace0ed33",
   "metadata": {},
   "outputs": [
    {
     "data": {
      "text/plain": [
       "user_id                   0\n",
       "group                     0\n",
       "landing_page              0\n",
       "time_spent_on_the_page    0\n",
       "converted                 0\n",
       "language_preferred        0\n",
       "dtype: int64"
      ]
     },
     "execution_count": 3081,
     "metadata": {},
     "output_type": "execute_result"
    }
   ],
   "source": [
    "#checking for null value\n",
    "df.isnull().sum()"
   ]
  },
  {
   "cell_type": "markdown",
   "id": "5450f8d0-b817-4398-aa87-04169e0c1c4f",
   "metadata": {},
   "source": [
    "- *As observed earlier the dataset contains no null values in any of the columns.*"
   ]
  },
  {
   "cell_type": "markdown",
   "id": "027742e0-2404-4e2e-92d2-c6f8cf9a3b44",
   "metadata": {},
   "source": [
    "#### Check for duplicate entries"
   ]
  },
  {
   "cell_type": "code",
   "execution_count": 3084,
   "id": "17d5315b-e350-4d3c-87cf-4456cb2a8235",
   "metadata": {},
   "outputs": [
    {
     "data": {
      "text/plain": [
       "0"
      ]
     },
     "execution_count": 3084,
     "metadata": {},
     "output_type": "execute_result"
    }
   ],
   "source": [
    "df.duplicated().sum()"
   ]
  },
  {
   "cell_type": "markdown",
   "id": "8cd93f63-ffe5-4a47-98c1-f892294a0d7e",
   "metadata": {},
   "source": [
    "- *As observed earlier the dataset contains no duplicates rows.*"
   ]
  },
  {
   "cell_type": "markdown",
   "id": "2b3abfa1-b30b-4caa-8b88-579dbcbfec7b",
   "metadata": {},
   "source": [
    "#### Check the statistical summary of the data"
   ]
  },
  {
   "cell_type": "code",
   "execution_count": 3087,
   "id": "e2d36238-3919-4885-9e89-e0390a74e3b5",
   "metadata": {},
   "outputs": [
    {
     "data": {
      "text/html": [
       "<div>\n",
       "<style scoped>\n",
       "    .dataframe tbody tr th:only-of-type {\n",
       "        vertical-align: middle;\n",
       "    }\n",
       "\n",
       "    .dataframe tbody tr th {\n",
       "        vertical-align: top;\n",
       "    }\n",
       "\n",
       "    .dataframe thead th {\n",
       "        text-align: right;\n",
       "    }\n",
       "</style>\n",
       "<table border=\"1\" class=\"dataframe\">\n",
       "  <thead>\n",
       "    <tr style=\"text-align: right;\">\n",
       "      <th></th>\n",
       "      <th>count</th>\n",
       "      <th>mean</th>\n",
       "      <th>std</th>\n",
       "      <th>min</th>\n",
       "      <th>25%</th>\n",
       "      <th>50%</th>\n",
       "      <th>75%</th>\n",
       "      <th>max</th>\n",
       "    </tr>\n",
       "  </thead>\n",
       "  <tbody>\n",
       "    <tr>\n",
       "      <th>user_id</th>\n",
       "      <td>100.000</td>\n",
       "      <td>546517.000</td>\n",
       "      <td>52.296</td>\n",
       "      <td>546443.000</td>\n",
       "      <td>546467.750</td>\n",
       "      <td>546492.500</td>\n",
       "      <td>546567.250</td>\n",
       "      <td>546592.000</td>\n",
       "    </tr>\n",
       "    <tr>\n",
       "      <th>time_spent_on_the_page</th>\n",
       "      <td>100.000</td>\n",
       "      <td>5.378</td>\n",
       "      <td>2.378</td>\n",
       "      <td>0.190</td>\n",
       "      <td>3.880</td>\n",
       "      <td>5.415</td>\n",
       "      <td>7.022</td>\n",
       "      <td>10.710</td>\n",
       "    </tr>\n",
       "  </tbody>\n",
       "</table>\n",
       "</div>"
      ],
      "text/plain": [
       "                         count       mean    std        min        25%  \\\n",
       "user_id                100.000 546517.000 52.296 546443.000 546467.750   \n",
       "time_spent_on_the_page 100.000      5.378  2.378      0.190      3.880   \n",
       "\n",
       "                              50%        75%        max  \n",
       "user_id                546492.500 546567.250 546592.000  \n",
       "time_spent_on_the_page      5.415      7.022     10.710  "
      ]
     },
     "execution_count": 3087,
     "metadata": {},
     "output_type": "execute_result"
    }
   ],
   "source": [
    "#Display statistical summary of the data only numerical columns\n",
    "df.describe().T  \n"
   ]
  },
  {
   "cell_type": "code",
   "execution_count": 3088,
   "id": "23a6a40f-cf9f-4409-9da0-0b3ffa19c78e",
   "metadata": {},
   "outputs": [
    {
     "data": {
      "text/html": [
       "<div>\n",
       "<style scoped>\n",
       "    .dataframe tbody tr th:only-of-type {\n",
       "        vertical-align: middle;\n",
       "    }\n",
       "\n",
       "    .dataframe tbody tr th {\n",
       "        vertical-align: top;\n",
       "    }\n",
       "\n",
       "    .dataframe thead th {\n",
       "        text-align: right;\n",
       "    }\n",
       "</style>\n",
       "<table border=\"1\" class=\"dataframe\">\n",
       "  <thead>\n",
       "    <tr style=\"text-align: right;\">\n",
       "      <th></th>\n",
       "      <th>count</th>\n",
       "      <th>unique</th>\n",
       "      <th>top</th>\n",
       "      <th>freq</th>\n",
       "      <th>mean</th>\n",
       "      <th>std</th>\n",
       "      <th>min</th>\n",
       "      <th>25%</th>\n",
       "      <th>50%</th>\n",
       "      <th>75%</th>\n",
       "      <th>max</th>\n",
       "    </tr>\n",
       "  </thead>\n",
       "  <tbody>\n",
       "    <tr>\n",
       "      <th>user_id</th>\n",
       "      <td>100.000</td>\n",
       "      <td>NaN</td>\n",
       "      <td>NaN</td>\n",
       "      <td>NaN</td>\n",
       "      <td>546517.000</td>\n",
       "      <td>52.296</td>\n",
       "      <td>546443.000</td>\n",
       "      <td>546467.750</td>\n",
       "      <td>546492.500</td>\n",
       "      <td>546567.250</td>\n",
       "      <td>546592.000</td>\n",
       "    </tr>\n",
       "    <tr>\n",
       "      <th>group</th>\n",
       "      <td>100</td>\n",
       "      <td>2</td>\n",
       "      <td>control</td>\n",
       "      <td>50</td>\n",
       "      <td>NaN</td>\n",
       "      <td>NaN</td>\n",
       "      <td>NaN</td>\n",
       "      <td>NaN</td>\n",
       "      <td>NaN</td>\n",
       "      <td>NaN</td>\n",
       "      <td>NaN</td>\n",
       "    </tr>\n",
       "    <tr>\n",
       "      <th>landing_page</th>\n",
       "      <td>100</td>\n",
       "      <td>2</td>\n",
       "      <td>old</td>\n",
       "      <td>50</td>\n",
       "      <td>NaN</td>\n",
       "      <td>NaN</td>\n",
       "      <td>NaN</td>\n",
       "      <td>NaN</td>\n",
       "      <td>NaN</td>\n",
       "      <td>NaN</td>\n",
       "      <td>NaN</td>\n",
       "    </tr>\n",
       "    <tr>\n",
       "      <th>time_spent_on_the_page</th>\n",
       "      <td>100.000</td>\n",
       "      <td>NaN</td>\n",
       "      <td>NaN</td>\n",
       "      <td>NaN</td>\n",
       "      <td>5.378</td>\n",
       "      <td>2.378</td>\n",
       "      <td>0.190</td>\n",
       "      <td>3.880</td>\n",
       "      <td>5.415</td>\n",
       "      <td>7.022</td>\n",
       "      <td>10.710</td>\n",
       "    </tr>\n",
       "    <tr>\n",
       "      <th>converted</th>\n",
       "      <td>100</td>\n",
       "      <td>2</td>\n",
       "      <td>yes</td>\n",
       "      <td>54</td>\n",
       "      <td>NaN</td>\n",
       "      <td>NaN</td>\n",
       "      <td>NaN</td>\n",
       "      <td>NaN</td>\n",
       "      <td>NaN</td>\n",
       "      <td>NaN</td>\n",
       "      <td>NaN</td>\n",
       "    </tr>\n",
       "    <tr>\n",
       "      <th>language_preferred</th>\n",
       "      <td>100</td>\n",
       "      <td>3</td>\n",
       "      <td>Spanish</td>\n",
       "      <td>34</td>\n",
       "      <td>NaN</td>\n",
       "      <td>NaN</td>\n",
       "      <td>NaN</td>\n",
       "      <td>NaN</td>\n",
       "      <td>NaN</td>\n",
       "      <td>NaN</td>\n",
       "      <td>NaN</td>\n",
       "    </tr>\n",
       "  </tbody>\n",
       "</table>\n",
       "</div>"
      ],
      "text/plain": [
       "                         count unique      top freq       mean    std  \\\n",
       "user_id                100.000    NaN      NaN  NaN 546517.000 52.296   \n",
       "group                      100      2  control   50        NaN    NaN   \n",
       "landing_page               100      2      old   50        NaN    NaN   \n",
       "time_spent_on_the_page 100.000    NaN      NaN  NaN      5.378  2.378   \n",
       "converted                  100      2      yes   54        NaN    NaN   \n",
       "language_preferred         100      3  Spanish   34        NaN    NaN   \n",
       "\n",
       "                              min        25%        50%        75%        max  \n",
       "user_id                546443.000 546467.750 546492.500 546567.250 546592.000  \n",
       "group                         NaN        NaN        NaN        NaN        NaN  \n",
       "landing_page                  NaN        NaN        NaN        NaN        NaN  \n",
       "time_spent_on_the_page      0.190      3.880      5.415      7.022     10.710  \n",
       "converted                     NaN        NaN        NaN        NaN        NaN  \n",
       "language_preferred            NaN        NaN        NaN        NaN        NaN  "
      ]
     },
     "execution_count": 3088,
     "metadata": {},
     "output_type": "execute_result"
    }
   ],
   "source": [
    "#Display statistical summary of the data for all columns\n",
    "df.describe(include='all').T  # include='all' will display statistical summary for all the columns including categorial data.\n"
   ]
  },
  {
   "cell_type": "markdown",
   "id": "04ca6090-9abf-4611-812b-501f96673f9f",
   "metadata": {},
   "source": [
    "- *The `describe()` function will display the summary statistics of the numerical data. To view summary statistics of both numerical and categorical data we use describe(include='all')*."
   ]
  },
  {
   "cell_type": "markdown",
   "id": "04ae857f-3c46-4ed1-9756-e650ccc6cf24",
   "metadata": {},
   "source": [
    "**Statistical observations:**\n",
    "\n",
    "- *`user_id` : It's an unique user ID of the users, who has visited the website. The dataset contains the details about `100` users` visited the news portal*.\n",
    "  \n",
    "- *`group` : There are 2 groups (`control`, belongs to first group) and (`treatment`, belongs to second group) which are divided equally (count=50)*\n",
    "  \n",
    "- *`landing_page` : The landing_page columns is a categorical data and are again divided equally for both old and new landing page*\n",
    "\n",
    "- *`time_spent_on_the_page` : On an average the users spends around `5.37` minutes on the Landing page(both new and old page), with minimum of .19 minutes     and maximum of `10.7` minutes.*\n",
    "  \n",
    "- *`converted` : `54 customers` had subscribed to the news portal, who belongs to either of the groups*\n",
    "  \n",
    "- *`language_preferred` : The portal offers 3 different languages `'Spanish,English and French` and looks like `Spanish` is the most preferred language*\n"
   ]
  },
  {
   "cell_type": "markdown",
   "id": "dd6f82cb-788c-4003-8773-8907cabe567b",
   "metadata": {},
   "source": [
    "Lets check different categories and it's counts in categorical columns 'group', 'landing_page' and 'language_preferred' for additional informations."
   ]
  },
  {
   "cell_type": "code",
   "execution_count": 3092,
   "id": "09b9cce0-40dc-437a-b0d9-bf8b34176cbd",
   "metadata": {},
   "outputs": [
    {
     "data": {
      "text/plain": [
       "group\n",
       "control      50\n",
       "treatment    50\n",
       "Name: count, dtype: int64"
      ]
     },
     "execution_count": 3092,
     "metadata": {},
     "output_type": "execute_result"
    }
   ],
   "source": [
    "df['group'].value_counts()"
   ]
  },
  {
   "cell_type": "code",
   "execution_count": 3093,
   "id": "ab3cc424-2f75-46f3-a7ea-ddfbfc21d355",
   "metadata": {},
   "outputs": [
    {
     "data": {
      "text/plain": [
       "landing_page\n",
       "old    50\n",
       "new    50\n",
       "Name: count, dtype: int64"
      ]
     },
     "execution_count": 3093,
     "metadata": {},
     "output_type": "execute_result"
    }
   ],
   "source": [
    "df['landing_page'].value_counts()"
   ]
  },
  {
   "cell_type": "code",
   "execution_count": 3094,
   "id": "97ff5e51-1de1-43a7-a0d2-dea249232091",
   "metadata": {},
   "outputs": [
    {
     "data": {
      "text/plain": [
       "language_preferred\n",
       "Spanish    34\n",
       "French     34\n",
       "English    32\n",
       "Name: count, dtype: int64"
      ]
     },
     "execution_count": 3094,
     "metadata": {},
     "output_type": "execute_result"
    }
   ],
   "source": [
    "df['language_preferred'].value_counts()"
   ]
  },
  {
   "cell_type": "markdown",
   "id": "8d8488e6-a96c-40bb-9899-db74e6864bbe",
   "metadata": {},
   "source": [
    "Observation: \n",
    "\n",
    "- *The dataset contains `2 population (group=control / treatment)` which are divided equally ( 50 in each group and landing page) for observing users         behaviors like time spent, different languages preferences and conversion rates) on new and old landing page.*\n",
    "  \n",
    "- *We have also notice that the different language (Spanish , English and French) users users count are same in both the groups for testing new/old           landing page*\n",
    "  "
   ]
  },
  {
   "cell_type": "markdown",
   "id": "68f3b2c9",
   "metadata": {
    "id": "68f3b2c9"
   },
   "source": [
    "### Univariate Analysis"
   ]
  },
  {
   "cell_type": "markdown",
   "id": "258cb025-d670-4e90-9258-3aab942ea4ee",
   "metadata": {
    "id": "1932d0f3"
   },
   "source": [
    "Lets do univariate analaysis for below columns to visualize the dataset:\n",
    "- user_id\n",
    "- group\n",
    "- landing_page\n",
    "- time_spent_on_the_page\n",
    "- converted\n",
    "- language_preferred "
   ]
  },
  {
   "cell_type": "markdown",
   "id": "406271b7-3b40-456b-bb47-287e37393244",
   "metadata": {},
   "source": [
    "**User Id**"
   ]
  },
  {
   "cell_type": "code",
   "execution_count": 3099,
   "id": "b0e53b06-d162-4d59-b19e-dd7172ae119e",
   "metadata": {},
   "outputs": [
    {
     "name": "stdout",
     "output_type": "stream",
     "text": [
      "There are 100 unique user ID\n"
     ]
    }
   ],
   "source": [
    "# check and display the unique user ID  \n",
    "df['user_id'].nunique()\n",
    "print('There are',df['user_id'].nunique(),'unique user ID')\n"
   ]
  },
  {
   "cell_type": "code",
   "execution_count": 3100,
   "id": "de06f4ef-ecc4-4f48-b74e-d723069327a6",
   "metadata": {},
   "outputs": [
    {
     "data": {
      "image/png": "[encoded data removed]",
      "text/plain": [
       "<Figure size 1000x600 with 1 Axes>"
      ]
     },
     "metadata": {},
     "output_type": "display_data"
    },
    {
     "data": {
      "image/png": "[encoded data removed]",
      "text/plain": [
       "<Figure size 1000x600 with 1 Axes>"
      ]
     },
     "metadata": {},
     "output_type": "display_data"
    }
   ],
   "source": [
    "#Create a histplot,boxplot and countplot for user_id\n",
    "#histplot\n",
    "plt.figure(figsize=(10,6))\n",
    "plt.title('Histogram: for User Id')\n",
    "sns.histplot(data=df,x='user_id', color='green',kde=True)\n",
    "plt.show()\n",
    "\n",
    "#boxplot\n",
    "plt.figure(figsize=(10,6))\n",
    "plt.title('Boxplot: for User Id')\n",
    "sns.boxplot(data = df,x = 'user_id', color='blue', showmeans = True);\n",
    "plt.show()"
   ]
  },
  {
   "cell_type": "markdown",
   "id": "57325c69-1614-4973-99d9-2fc1d43ed4a7",
   "metadata": {},
   "source": [
    "*Since `user_id is a unique identifier`, plotting a univariate graph for user_id is `not meaningful`.*"
   ]
  },
  {
   "cell_type": "markdown",
   "id": "8d1d0215-d1fb-4d06-b661-5bcaf22c1a66",
   "metadata": {},
   "source": [
    "**Group**"
   ]
  },
  {
   "cell_type": "code",
   "execution_count": 3103,
   "id": "11becf80-9b98-4a91-86eb-7f2f96636313",
   "metadata": {},
   "outputs": [
    {
     "data": {
      "text/plain": [
       "2"
      ]
     },
     "execution_count": 3103,
     "metadata": {},
     "output_type": "execute_result"
    }
   ],
   "source": [
    "df['group'].nunique()"
   ]
  },
  {
   "cell_type": "code",
   "execution_count": 3104,
   "id": "1b66f679-f735-4405-84d2-c2c5d0141d45",
   "metadata": {},
   "outputs": [
    {
     "name": "stdout",
     "output_type": "stream",
     "text": [
      "There are 2 groups, control=50 and treatment=50.\n"
     ]
    }
   ],
   "source": [
    "df['group'].value_counts()\n",
    "group_control_count=df['group'].value_counts()['control']\n",
    "group_treatment_count=df['group'].value_counts()['treatment']\n",
    "print(f'There are 2 groups, control={group_control_count} and treatment={group_treatment_count}.')"
   ]
  },
  {
   "cell_type": "code",
   "execution_count": 3105,
   "id": "dfbe6c03-7f38-4762-9cbf-bd2b805a49fb",
   "metadata": {},
   "outputs": [
    {
     "data": {
      "image/png": "[encoded data removed]",
      "text/plain": [
       "<Figure size 1000x600 with 1 Axes>"
      ]
     },
     "metadata": {},
     "output_type": "display_data"
    }
   ],
   "source": [
    "#create a countplot for group\n",
    "\n",
    "plt.figure(figsize=(10,6))\n",
    "plt.xlabel('Group')\n",
    "plt.title('Countplot: Group')\n",
    "sns.countplot(data=df,x='group',hue='group');\n",
    "plt.show();"
   ]
  },
  {
   "cell_type": "markdown",
   "id": "82dd5383-77c2-4f11-966d-532ca08f6164",
   "metadata": {},
   "source": [
    "- *The dataset contains `2 groups- first group (control)` and `second group (treatment)` with equal frequencies(count=50) i.e. users are divided equally       into both the groups.*"
   ]
  },
  {
   "cell_type": "markdown",
   "id": "4caaf79d-80b5-41af-9c75-9d595a69370c",
   "metadata": {},
   "source": [
    "**Landing Page**"
   ]
  },
  {
   "cell_type": "code",
   "execution_count": 3108,
   "id": "3f85c33a-5fc2-4add-a501-57ae42301d22",
   "metadata": {},
   "outputs": [
    {
     "data": {
      "image/png": "[encoded data removed]",
      "text/plain": [
       "<Figure size 1000x600 with 1 Axes>"
      ]
     },
     "metadata": {},
     "output_type": "display_data"
    }
   ],
   "source": [
    "#countplot for landing_page\n",
    "\n",
    "plt.figure(figsize=(10,6))\n",
    "plt.xlabel('landing_page')\n",
    "plt.title('Countplot : landing page')\n",
    "sns.countplot(data=df,x='landing_page',hue='landing_page');\n",
    "plt.show();\n"
   ]
  },
  {
   "cell_type": "markdown",
   "id": "6714ad50-4217-467f-8166-7233bf012f1f",
   "metadata": {},
   "source": [
    "- *We can see from the above plot that `half of the users (count=50) are introduced to new landing page` while other half are tested on old landing page.*"
   ]
  },
  {
   "cell_type": "markdown",
   "id": "725c028e-1bec-42dc-bd8d-98af94182efd",
   "metadata": {},
   "source": [
    "**Time Spent On The Page**"
   ]
  },
  {
   "cell_type": "code",
   "execution_count": 3111,
   "id": "1b6e5054-a9e8-4c76-9532-cbd72220e4ad",
   "metadata": {},
   "outputs": [
    {
     "data": {
      "text/plain": [
       "94"
      ]
     },
     "execution_count": 3111,
     "metadata": {},
     "output_type": "execute_result"
    }
   ],
   "source": [
    "df.time_spent_on_the_page.nunique()"
   ]
  },
  {
   "cell_type": "code",
   "execution_count": 3112,
   "id": "050f8cf1-efbb-41da-a7b5-25f2f5ef1e90",
   "metadata": {},
   "outputs": [
    {
     "name": "stdout",
     "output_type": "stream",
     "text": [
      "The maximum and the minimum time spent by customer on landing page are 10.71 and 0.19 minutes resp.\n"
     ]
    }
   ],
   "source": [
    "print('The maximum and the minimum time spent by customer on landing page are',df.time_spent_on_the_page.max(),'and',df.time_spent_on_the_page.min(),'minutes resp.')\n"
   ]
  },
  {
   "cell_type": "code",
   "execution_count": 3113,
   "id": "4d5c5c72-4339-4294-ba42-51578d3a520a",
   "metadata": {},
   "outputs": [
    {
     "data": {
      "image/png": "[encoded data removed]",
      "text/plain": [
       "<Figure size 1000x600 with 1 Axes>"
      ]
     },
     "metadata": {},
     "output_type": "display_data"
    },
    {
     "data": {
      "image/png": "[encoded data removed]",
      "text/plain": [
       "<Figure size 1000x600 with 1 Axes>"
      ]
     },
     "metadata": {},
     "output_type": "display_data"
    }
   ],
   "source": [
    "#Histplot for time_spent_on_the_page\n",
    "plt.figure(figsize=(10,6))\n",
    "plt.title('Histogram : time_spent_on_the_page')\n",
    "plt.axvline(df['time_spent_on_the_page'].mean(),color='r')\n",
    "sns.histplot(data=df,x='time_spent_on_the_page',color='green',kde=True)\n",
    "plt.show()\n",
    "\n",
    "#boxplot for time_spent_on_the_page\n",
    "plt.figure(figsize=(10,6))\n",
    "plt.title('boxplot : time_spent_on_the_page')\n",
    "sns.boxplot(data=df,x='time_spent_on_the_page',showmeans=True,color='orange')\n",
    "plt.show()"
   ]
  },
  {
   "cell_type": "markdown",
   "id": "4d34c5f1-1eff-45b7-9b3e-00383b38f039",
   "metadata": {},
   "source": [
    "From the above plots we can see,\n",
    "\n",
    "- *`On an average` the users spent around `5.3 mins` of time on landing page.*\n",
    "- *The `min and max time` a customers spent on the news portal are `.19 and 10.71 minutes` respectively.*\n",
    "- *`50 percent (interquartile range (IQR)` of users spend `aprox 4-7 mins of time` on landing page.*\n",
    "- *There are `no outliers present` and data is symmetric (mean=median=mode) with no skewness.*\n",
    "  \n"
   ]
  },
  {
   "cell_type": "markdown",
   "id": "89955aa6-a97a-4ca0-8621-4a18d223f817",
   "metadata": {},
   "source": [
    "**Additional analysis on time_spent_on_the_page**"
   ]
  },
  {
   "cell_type": "markdown",
   "id": "8d9fe43c-42c3-4ee2-9b5d-a21cdc32c103",
   "metadata": {},
   "source": [
    "- *There are `94` unique `time_spent_on_the_page` values and plotting the different time value (94 counts ) without categorizing will make countplot less meaningful.*\n",
    "- *Lets divide the `time frame (time_spent_on_the_page) into 5 different bins`, based on time range, to make analysis and count plots more meaningful*\n",
    "\n",
    "- *Since we have seen from statistical summary and also from above query, the `min and max time` a customers spent on the news portal is `.19 and 10.71 minutes` respectively.*\n",
    "\n",
    "      Lets create bins for `time_spent_on_the_page` column using **pd.cut() function**\n",
    "\n",
    "        bin 1: less than a minutes  `Poor engagement`<br>\n",
    "        bin 2: 1-3 minutes          `Below average`<br>\n",
    "        bin 3: 3-5 minutes          `Average`<br>\n",
    "        bin 4: 5-8 minutes          `Good`<br>\n",
    "        bin 5: 8 and above          `Exceptional`<br>\n",
    "\n",
    "        *`Syntax:` pd.cut(x, bins, labels=None, right=False)*\n",
    "    \n",
    "        x - column/array to binned<br>\n",
    "        bins - number of bins to create or an input of list for the range of bins<br>\n",
    "        labels - specifies the labels for the bins<br>\n",
    "        right - If set to False, it excludes the rightmost edge of the interval<br>"
   ]
  },
  {
   "cell_type": "code",
   "execution_count": 3117,
   "id": "7376db55-c9e8-453e-938d-b87f482eefa0",
   "metadata": {},
   "outputs": [],
   "source": [
    "#Create bins for `time_spent_on_the_page` column using **pd.cut() function***\n",
    "df['time_spent_bin']=pd.cut(df['time_spent_on_the_page'],bins=[0,1,3,5,8,11],labels=['Poor engagement','Below average','Average','Good','Exceptional'],right=False)\n"
   ]
  },
  {
   "cell_type": "code",
   "execution_count": 3118,
   "id": "d51f2d65-6a0f-454f-a5d7-5f5774c75688",
   "metadata": {},
   "outputs": [
    {
     "data": {
      "text/html": [
       "<div>\n",
       "<style scoped>\n",
       "    .dataframe tbody tr th:only-of-type {\n",
       "        vertical-align: middle;\n",
       "    }\n",
       "\n",
       "    .dataframe tbody tr th {\n",
       "        vertical-align: top;\n",
       "    }\n",
       "\n",
       "    .dataframe thead th {\n",
       "        text-align: right;\n",
       "    }\n",
       "</style>\n",
       "<table border=\"1\" class=\"dataframe\">\n",
       "  <thead>\n",
       "    <tr style=\"text-align: right;\">\n",
       "      <th></th>\n",
       "      <th>user_id</th>\n",
       "      <th>group</th>\n",
       "      <th>landing_page</th>\n",
       "      <th>time_spent_on_the_page</th>\n",
       "      <th>converted</th>\n",
       "      <th>language_preferred</th>\n",
       "      <th>time_spent_bin</th>\n",
       "    </tr>\n",
       "  </thead>\n",
       "  <tbody>\n",
       "    <tr>\n",
       "      <th>0</th>\n",
       "      <td>546592</td>\n",
       "      <td>control</td>\n",
       "      <td>old</td>\n",
       "      <td>3.480</td>\n",
       "      <td>no</td>\n",
       "      <td>Spanish</td>\n",
       "      <td>Average</td>\n",
       "    </tr>\n",
       "    <tr>\n",
       "      <th>1</th>\n",
       "      <td>546468</td>\n",
       "      <td>treatment</td>\n",
       "      <td>new</td>\n",
       "      <td>7.130</td>\n",
       "      <td>yes</td>\n",
       "      <td>English</td>\n",
       "      <td>Good</td>\n",
       "    </tr>\n",
       "    <tr>\n",
       "      <th>2</th>\n",
       "      <td>546462</td>\n",
       "      <td>treatment</td>\n",
       "      <td>new</td>\n",
       "      <td>4.400</td>\n",
       "      <td>no</td>\n",
       "      <td>Spanish</td>\n",
       "      <td>Average</td>\n",
       "    </tr>\n",
       "    <tr>\n",
       "      <th>3</th>\n",
       "      <td>546567</td>\n",
       "      <td>control</td>\n",
       "      <td>old</td>\n",
       "      <td>3.020</td>\n",
       "      <td>no</td>\n",
       "      <td>French</td>\n",
       "      <td>Average</td>\n",
       "    </tr>\n",
       "    <tr>\n",
       "      <th>4</th>\n",
       "      <td>546459</td>\n",
       "      <td>treatment</td>\n",
       "      <td>new</td>\n",
       "      <td>4.750</td>\n",
       "      <td>yes</td>\n",
       "      <td>Spanish</td>\n",
       "      <td>Average</td>\n",
       "    </tr>\n",
       "  </tbody>\n",
       "</table>\n",
       "</div>"
      ],
      "text/plain": [
       "   user_id      group landing_page  time_spent_on_the_page converted  \\\n",
       "0   546592    control          old                   3.480        no   \n",
       "1   546468  treatment          new                   7.130       yes   \n",
       "2   546462  treatment          new                   4.400        no   \n",
       "3   546567    control          old                   3.020        no   \n",
       "4   546459  treatment          new                   4.750       yes   \n",
       "\n",
       "  language_preferred time_spent_bin  \n",
       "0            Spanish        Average  \n",
       "1            English           Good  \n",
       "2            Spanish        Average  \n",
       "3             French        Average  \n",
       "4            Spanish        Average  "
      ]
     },
     "execution_count": 3118,
     "metadata": {},
     "output_type": "execute_result"
    }
   ],
   "source": [
    "df.head()"
   ]
  },
  {
   "cell_type": "code",
   "execution_count": 3119,
   "id": "c5db0365-2cec-4cab-b33e-e46d26ee2d98",
   "metadata": {},
   "outputs": [
    {
     "data": {
      "text/plain": [
       "time_spent_bin\n",
       "Good               44\n",
       "Average            26\n",
       "Exceptional        15\n",
       "Below average       9\n",
       "Poor engagement     6\n",
       "Name: count, dtype: int64"
      ]
     },
     "execution_count": 3119,
     "metadata": {},
     "output_type": "execute_result"
    }
   ],
   "source": [
    "#Display the counts in each time range\n",
    "df['time_spent_bin'].value_counts()"
   ]
  },
  {
   "cell_type": "code",
   "execution_count": 3120,
   "id": "13bdcdcb-991d-462c-aa3e-086bbaa00fac",
   "metadata": {},
   "outputs": [
    {
     "data": {
      "text/plain": [
       "time_spent_bin\n",
       "Good              0.440\n",
       "Average           0.260\n",
       "Exceptional       0.150\n",
       "Below average     0.090\n",
       "Poor engagement   0.060\n",
       "Name: proportion, dtype: float64"
      ]
     },
     "execution_count": 3120,
     "metadata": {},
     "output_type": "execute_result"
    }
   ],
   "source": [
    "#Display the percentage results\n",
    "df['time_spent_bin'].value_counts(normalize=True)"
   ]
  },
  {
   "cell_type": "code",
   "execution_count": 3121,
   "id": "1b60f4af-0866-4cb8-b75e-a6adf711d00e",
   "metadata": {},
   "outputs": [
    {
     "data": {
      "image/png": "[encoded data removed]",
      "text/plain": [
       "<Figure size 1000x600 with 1 Axes>"
      ]
     },
     "metadata": {},
     "output_type": "display_data"
    }
   ],
   "source": [
    "#countplot for column time_spent_on_the_page with time_spent_bin)\n",
    "\n",
    "plt.figure(figsize=(10,6))\n",
    "plt.xlabel('time_spent_bin')\n",
    "plt.xticks(rotation=90)\n",
    "plt.title('Countplot: Time Spent bin category')\n",
    "sns.countplot(data=df,x='time_spent_bin',hue='time_spent_bin',order=df['time_spent_bin'].value_counts().index); #order here will plot the graph in descending order(counts)\n",
    "plt.show();"
   ]
  },
  {
   "cell_type": "markdown",
   "id": "54f7e8ca-7500-4116-b648-5c3d1884f38b",
   "metadata": {},
   "source": [
    "Observation:\n",
    "\n",
    "- *Based on the time_spent_bin count plot, we can see `44 percent` of customer spent a `Good amount of time` on landing page in a range of abount `5-8 minutes`, followed by 26% of customer with `Average time of 3-5 minutes`*.\n",
    "  \n",
    "- *In shorts around `70% of customer` spends `3-8 minutes` of times on landing page of E-news Express portal.*\n",
    "  \n",
    "Note this analysis contains data for both the groups\n"
   ]
  },
  {
   "cell_type": "markdown",
   "id": "e0a89b0d-157f-4331-a446-1f1b34ae5cbd",
   "metadata": {},
   "source": [
    "**Converted**"
   ]
  },
  {
   "cell_type": "code",
   "execution_count": 3124,
   "id": "446a54ab-ba04-416a-8165-c753acbb6017",
   "metadata": {},
   "outputs": [
    {
     "data": {
      "text/plain": [
       "converted\n",
       "yes   0.540\n",
       "no    0.460\n",
       "Name: proportion, dtype: float64"
      ]
     },
     "execution_count": 3124,
     "metadata": {},
     "output_type": "execute_result"
    }
   ],
   "source": [
    "df['converted'].value_counts(normalize=True)"
   ]
  },
  {
   "cell_type": "code",
   "execution_count": 3125,
   "id": "fe2171ae-db52-4417-afe8-4b10696efaa7",
   "metadata": {},
   "outputs": [
    {
     "data": {
      "image/png": "[encoded data removed]",
      "text/plain": [
       "<Figure size 1000x600 with 1 Axes>"
      ]
     },
     "metadata": {},
     "output_type": "display_data"
    }
   ],
   "source": [
    "#countplot\n",
    "\n",
    "plt.figure(figsize=(10,6))\n",
    "plt.xlabel('converted')\n",
    "plt.title('Countplot: Converted Status')\n",
    "sns.countplot(data=df,x='converted',hue='converted',order=df['converted'].value_counts().index); #order here will plot the graph in descending order(counts)\n",
    "plt.show();\n"
   ]
  },
  {
   "cell_type": "markdown",
   "id": "e6f58f9f-903a-4f5e-bf48-c36b9cfc9224",
   "metadata": {},
   "source": [
    "**Observation:**\n",
    "\n",
    "- *From the above plot, `54 percent of user` had converted indicating people like the contents on the webpage.*\n",
    "  \n",
    "- *What attracts the users more? Is it the new landing page or the old features?  we need to dig in further in our bivariate analysis to check what are the factors affecting it.*"
   ]
  },
  {
   "cell_type": "markdown",
   "id": "683d5c9a-a4c1-4afa-adb2-093042154bf4",
   "metadata": {},
   "source": [
    "**Language Preferred**"
   ]
  },
  {
   "cell_type": "code",
   "execution_count": 3128,
   "id": "6a34a605-2f6c-48e5-964a-0ba6a2b21744",
   "metadata": {},
   "outputs": [
    {
     "data": {
      "text/plain": [
       "language_preferred\n",
       "Spanish    34\n",
       "French     34\n",
       "English    32\n",
       "Name: count, dtype: int64"
      ]
     },
     "execution_count": 3128,
     "metadata": {},
     "output_type": "execute_result"
    }
   ],
   "source": [
    "df['language_preferred'].value_counts()"
   ]
  },
  {
   "cell_type": "code",
   "execution_count": 3129,
   "id": "269f9a28-61ab-41ba-8ed2-4ab1e98a438f",
   "metadata": {},
   "outputs": [],
   "source": [
    "lang_pref_sorted_count=df.language_preferred.value_counts().index"
   ]
  },
  {
   "cell_type": "code",
   "execution_count": 3130,
   "id": "65ffe7da-7eb4-4e32-98f2-9f1cbda98029",
   "metadata": {},
   "outputs": [
    {
     "data": {
      "image/png": "[encoded data removed]",
      "text/plain": [
       "<Figure size 1000x600 with 1 Axes>"
      ]
     },
     "metadata": {},
     "output_type": "display_data"
    }
   ],
   "source": [
    "#countplot\n",
    "plt.figure(figsize=(10,6))\n",
    "plt.xlabel('language_preferred')\n",
    "plt.title('Countplot: language_preferred')\n",
    "sns.countplot(data=df,x='language_preferred',hue='language_preferred',order=lang_pref_sorted_count);\n",
    "plt.show();"
   ]
  },
  {
   "cell_type": "markdown",
   "id": "eb745ae8-0724-4122-bb45-6ad52b7cda3c",
   "metadata": {},
   "source": [
    "- *Based on the above plot, the portal provides 3 languages `Spanish,French and English`.*\n",
    "- *There are not much difference in different language users counts.`Spanish and French` are the `most preferred language` with the count of 34 each out of 100 users,* "
   ]
  },
  {
   "cell_type": "markdown",
   "id": "fad2de2f",
   "metadata": {
    "id": "fad2de2f"
   },
   "source": [
    "### Bivariate Analysis"
   ]
  },
  {
   "cell_type": "markdown",
   "id": "85b709b6-aacb-4de1-9783-286c8d0a3103",
   "metadata": {
    "id": "58e9a1d0"
   },
   "source": [
    "Lets analyze how numerical column 'time_spent_on_page' is affected by landing page ,language preferred or "
   ]
  },
  {
   "cell_type": "markdown",
   "id": "e121db4d-d899-469a-b7da-9e8ae1aceac1",
   "metadata": {},
   "source": [
    "**Time spent on the page vs Landing page**"
   ]
  },
  {
   "cell_type": "code",
   "execution_count": 3135,
   "id": "f22dfb51-b219-465a-a3b8-87f7fc6d4a22",
   "metadata": {},
   "outputs": [
    {
     "data": {
      "image/png": "[encoded data removed]",
      "text/plain": [
       "<Figure size 1000x600 with 1 Axes>"
      ]
     },
     "metadata": {},
     "output_type": "display_data"
    }
   ],
   "source": [
    "plt.figure(figsize=(10,6))\n",
    "plt.title('boxplot: Time spent vs landing page')\n",
    "plt.xlabel('Landing page')\n",
    "plt.ylabel('Time spent on the page')\n",
    "sns.boxplot(data=df,y='time_spent_on_the_page',x='landing_page',hue = 'landing_page',palette = 'Spectral',showmeans=True);\n",
    "plt.show();\n"
   ]
  },
  {
   "cell_type": "markdown",
   "id": "e095fc12-98da-478f-8af8-756230cc009b",
   "metadata": {},
   "source": [
    "**Observation**\n",
    "\n",
    "*From the above boxplot , we can say that,*\n",
    "\n",
    "- *`On an average` the users spends `more time(meantime aprox 6.2 mins) on new landing page`, when compared to `old landing page(meantime=4.5 mins)`,            indicating added new features and contents are engaging and interesting on new landing page*\n",
    "  \n",
    "- *`Few Outliers` are present on new landing page on both lower(less than 2 min) and higher ends(above 10 mins). Higher time spent could be because of           content very engaging or browsing multiple sections. More data and analysis are required to arrive at proper reasons.*\n",
    "  \n",
    "- *`median time` for `new landing page` users are `higher(approx to 6.1 mins)` than old landing page users(close to 4.4 mins).*  \n",
    "  \n",
    "- *`minimum time spent` by users on new landing page is around `3 minutes ` whereas it's less than 1 mins on old landing page, indicating less engaging            features on old page*\n",
    "  \n",
    "- *`Variations are more spreadout` in old landing page(wider IQR) compared to new indicating more data is spreadout in the middle 50%*."
   ]
  },
  {
   "cell_type": "markdown",
   "id": "66ae3707-f08d-452f-b6c3-860b1423053d",
   "metadata": {},
   "source": [
    "**Time spent on the page vs language_preferred**"
   ]
  },
  {
   "cell_type": "code",
   "execution_count": 3138,
   "id": "21c02418-0ac0-42c7-b453-24d6e3a63cb1",
   "metadata": {},
   "outputs": [
    {
     "data": {
      "image/png": "[encoded data removed]",
      "text/plain": [
       "<Figure size 1000x600 with 1 Axes>"
      ]
     },
     "metadata": {},
     "output_type": "display_data"
    }
   ],
   "source": [
    "plt.figure(figsize=(10,6))\n",
    "plt.title('boxplot: Time spent on the page vs Language preferred')\n",
    "plt.xlabel('Language preferred')\n",
    "plt.ylabel('Time spent on the page')\n",
    "sns.boxplot(data=df,y='time_spent_on_the_page',x='language_preferred',hue = 'language_preferred',palette = 'YlGnBu',showmeans=True);\n",
    "plt.show();"
   ]
  },
  {
   "cell_type": "markdown",
   "id": "47d35d8a-0b55-4aac-b0cb-e4518b86557a",
   "metadata": {},
   "source": [
    "**Observation:**\n",
    "\n",
    "- *`Maximum time` spent by `French and English users` are `more` when compared to `Spanish users`, indicating few users are very engaging and spends more      time viewing/browsing the contents.*\n",
    "  \n",
    "- *`variations` are more spreadout for `French and English users` indicating diverse users.*\n",
    "  \n",
    "- *`Average time `spent by all languages users are approximately same and are close or equal to median.*\n",
    "  \n",
    "- *`50 % of all users`(median value) spend `less than 6 mins` of time on landing page.*\n",
    "  \n",
    "- *Time spend by `Spanish user` are in range between `1.6 to 8.8 mins approx` indicating less variations and narrow boxplot*\n",
    "  \n",
    "- *very slight skewness is present in spanish and English users.*"
   ]
  },
  {
   "cell_type": "markdown",
   "id": "3273f8d0-d209-43b9-b812-2cddce2620be",
   "metadata": {},
   "source": [
    "**Time spent on the page vs Conversion status**"
   ]
  },
  {
   "cell_type": "code",
   "execution_count": 3141,
   "id": "86ce7f51-f1ef-4af9-8499-33a3ab7014bf",
   "metadata": {},
   "outputs": [
    {
     "data": {
      "image/png": "[encoded data removed]",
      "text/plain": [
       "<Figure size 1000x700 with 1 Axes>"
      ]
     },
     "metadata": {},
     "output_type": "display_data"
    }
   ],
   "source": [
    "plt.figure(figsize=(10,7))\n",
    "plt.title('boxplot: Time spent on the page vs Conversion status')\n",
    "plt.xlabel('Conversion status')\n",
    "plt.ylabel('Time spent on the page')\n",
    "sns.boxplot(data=df,y='time_spent_on_the_page',x='converted',hue = 'converted',palette = 'GnBu',showmeans=True);\n",
    "plt.show();\n"
   ]
  },
  {
   "cell_type": "markdown",
   "id": "0c9546c0-674c-44a2-817d-da8ce97d3e6d",
   "metadata": {},
   "source": [
    "**Observation**\n",
    "\n",
    "- *`Time spent by converted users` are `more` when compared to non-converted users. Which is evident, if the users likes the content and features on the       portal tend to subscribe and therefore spent more time*\n",
    "- *There are `few outliers` present at both ends of `converted users`, indicating few users are highly engaging and spent more time viewing/browsing the contents or new features on the portal.*\n",
    "- *The `average and median time spent` by `converted users are higher` (close to 7 mins) than the `non-converted users(approx 4 mins)`.*\n",
    "  \n",
    "- *`one outlier is present for non-converted users at higher end`, indicating accidental visit or showing some interest in subscribing to the website, but then we need to dig in further to arrive at proper conclusion.*\n",
    "- *`75 percent` of `non-converted users` spends `around 5 mins `of time on the landing page.which is little less than 25 percentile of time converted users spent(approx 5.4 mins)*"
   ]
  },
  {
   "cell_type": "markdown",
   "id": "7fdc138e-eee1-4517-9788-4993040733f8",
   "metadata": {},
   "source": [
    "**Time spent on the page vs Group**"
   ]
  },
  {
   "cell_type": "code",
   "execution_count": 3144,
   "id": "cd97cb89-155a-447c-8dcf-44977bd69fb5",
   "metadata": {},
   "outputs": [
    {
     "data": {
      "image/png": "[encoded data removed]",
      "text/plain": [
       "<Figure size 1000x600 with 1 Axes>"
      ]
     },
     "metadata": {},
     "output_type": "display_data"
    }
   ],
   "source": [
    "plt.figure(figsize=(10,6))\n",
    "plt.title('boxplot: Time spent on the page vs Group')\n",
    "plt.xlabel('Group')\n",
    "plt.ylabel('Time spent on the page')\n",
    "sns.boxplot(data=df,y='time_spent_on_the_page',x='group',hue = 'group',palette = 'Paired',showmeans=True);\n",
    "plt.show();\n"
   ]
  },
  {
   "cell_type": "markdown",
   "id": "79767425-be25-4d11-adfb-84deb0945545",
   "metadata": {},
   "source": [
    "**Observation:**\n",
    "\n",
    "- *`Time spent` by `treatment group` ranges from `3-9 mins`, little variations with narrow boxplot*.\n",
    "  \n",
    "- *`few outliers` are present at both the ends of `treatment group`, suggesting very engaged users browsing multiple sections or exploring/searching new       features.*\n",
    "  \n",
    "- *`Average and median time spent` by `treatment group` is `higher`(aprox 6.1 mins) than control groups(4.3 mins), indicating new landing page contains        more engaging contents and additional features, to glue their users.*\n",
    "  \n",
    "- *`Time spent by control group` is spreadout with wider box plot and ranges from `.19 -10.7 mins approx.`*\n",
    "  \n",
    "- *`No outliers` are present for the `control` group.*\n",
    "  \n"
   ]
  },
  {
   "cell_type": "markdown",
   "id": "9903e8d3-a46c-472d-8379-665eb3b9c450",
   "metadata": {},
   "source": [
    "#### Additional analysis:"
   ]
  },
  {
   "cell_type": "markdown",
   "id": "dd9a0a43-0417-4b4d-a66f-e8316c10f024",
   "metadata": {},
   "source": [
    "**Conversion status under each group**"
   ]
  },
  {
   "cell_type": "code",
   "execution_count": 3148,
   "id": "47dc43ba-071b-4000-b10e-b94858d22fc3",
   "metadata": {},
   "outputs": [
    {
     "data": {
      "text/plain": [
       "group      converted\n",
       "control    no           29\n",
       "           yes          21\n",
       "treatment  no           17\n",
       "           yes          33\n",
       "Name: landing_page, dtype: int64"
      ]
     },
     "execution_count": 3148,
     "metadata": {},
     "output_type": "execute_result"
    }
   ],
   "source": [
    "#Display conversion status counts under each group in landing_page\n",
    "df_converted_count_under_groups=df.groupby(['group','converted'])['landing_page'].count()\n",
    "df_converted_count_under_groups"
   ]
  },
  {
   "cell_type": "code",
   "execution_count": 3149,
   "id": "31cf6528-4822-4542-9a1f-a822242de623",
   "metadata": {},
   "outputs": [
    {
     "data": {
      "image/png": "[encoded data removed]",
      "text/plain": [
       "<Figure size 1200x600 with 1 Axes>"
      ]
     },
     "metadata": {},
     "output_type": "display_data"
    }
   ],
   "source": [
    "# Unstack the multi-index DataFrame for plotting two categorical data\n",
    "# Since df_converted_language_pref is a multi-index DataFrame, it needs to be unstacked to create separate bars for \"yes\" and \"no\" conversion statuses.\n",
    "\n",
    "df_converted_count_under_groups_plot = df_converted_count_under_groups.unstack(level=1)\n",
    "\n",
    "# Plot the group barplot to show the counts for converted categories(yes/no) under each groups\n",
    "df_converted_count_under_groups_plot.plot(kind='bar', figsize=(12, 6), color=['green', 'orange'])\n",
    "\n",
    "# Add title, labels, and legend\n",
    "plt.title('Barplot: Groups with conversion status')\n",
    "plt.xlabel('Groups')\n",
    "plt.ylabel('Count')\n",
    "plt.legend( title='Converted', loc='center', fontsize=10)\n",
    "\n",
    "# Adjust x-axis labels\n",
    "plt.xticks(rotation=0)\n",
    "plt.show()\n"
   ]
  },
  {
   "cell_type": "markdown",
   "id": "5eb8051f-3537-486d-a67b-b02190b2350d",
   "metadata": {},
   "source": [
    "**Observation**\n",
    "\n",
    "- *`Conversion rates` are `higher in treatment` group (around `66 percent`) when compared to `control group( 42 percent)` , indicating users found the new landing page more engaging and exciting than the old page*\n",
    "  "
   ]
  },
  {
   "cell_type": "markdown",
   "id": "3bbb90d0-d27a-4071-8379-0f59f383768e",
   "metadata": {},
   "source": [
    "**Multivariate Analysis:**"
   ]
  },
  {
   "cell_type": "markdown",
   "id": "9efeb228-f84d-4372-bb26-d52d79ee96ac",
   "metadata": {},
   "source": [
    "#### Time spent in each Group vs conversion rate"
   ]
  },
  {
   "cell_type": "markdown",
   "id": "8bddfbb5-e415-4042-837e-259555fe92a9",
   "metadata": {},
   "source": [
    "- Lets check, how `users spent time on the landing page` in each group(control and treatment) and `how many of them have converted`(i.e subscribed to the portal).\n",
    "\n",
    "- We will use `catplot` this time, which provides a new framework giving access to several types of plots that show relationship between numerical variable and one or more categorical variables."
   ]
  },
  {
   "cell_type": "code",
   "execution_count": 3154,
   "id": "2854981f-4ea3-439a-9615-54588f171c76",
   "metadata": {},
   "outputs": [
    {
     "data": {
      "image/png": "[encoded data removed]",
      "text/plain": [
       "<Figure size 581.361x500 with 1 Axes>"
      ]
     },
     "metadata": {},
     "output_type": "display_data"
    }
   ],
   "source": [
    "#create a catplot with kind =bar plot, to show how customer spent time on the landing page in each group and how many of them have converted\n",
    "\n",
    "\n",
    "sns.catplot(data=df, kind=\"bar\", x=\"group\", y=\"time_spent_on_the_page\", hue=\"converted\", palette=\"dark\")\n",
    "plt.title(\"Catplot:Time spent in each Group vs conversion rate\");\n"
   ]
  },
  {
   "cell_type": "markdown",
   "id": "7c101b23-fde5-4b3b-98b3-61ea6b58c12b",
   "metadata": {},
   "source": [
    "- *We can see from above catplot that `average time spent by users in the control group` when `converted `are `slightly less(approx 6.2 mins) `than the one from `treatment group(around 7 mins)`.*\n",
    "  \n",
    "- *`Control group`: There is significant difference in time spent on the landing page between the users who are converted(6.2 mins) and not-converted(3.3 mins).*\n",
    "  \n",
    "- *`Treatment group`: There is significant difference in time spent on the landing page between the users who are converted(approx 7 mins) and not-converted(close to 5 mins).*\n",
    "  \n",
    "- *We do observe that `conversion rates are high when users spents more time on the landing page(new or old)`, indicating they find the contents engaging. Further statistical analysis will shed more light on this*"
   ]
  },
  {
   "cell_type": "markdown",
   "id": "ceacb597-5c49-4ee8-a6c7-bcb50ad0e65e",
   "metadata": {},
   "source": [
    "#### Time spent in each Group by different language users"
   ]
  },
  {
   "cell_type": "markdown",
   "id": "a81564f5-2266-4664-8e9d-b124fca6c1d3",
   "metadata": {},
   "source": [
    "- *Lets create catplot to show `how customer spent time` on the landing page `in each group with preferred language`.*"
   ]
  },
  {
   "cell_type": "code",
   "execution_count": 3158,
   "id": "bb3545cd-afc9-4913-a695-1337f7facf69",
   "metadata": {},
   "outputs": [
    {
     "data": {
      "image/png": "[encoded data removed]",
      "text/plain": [
       "<Figure size 647.736x500 with 1 Axes>"
      ]
     },
     "metadata": {},
     "output_type": "display_data"
    }
   ],
   "source": [
    "#create a catplot with kind =bar plot, to show how customer spent time on the landing page in each group with preferred language\n",
    "\n",
    "g=sns.catplot(data=df, kind=\"bar\", x=\"group\", y=\"time_spent_on_the_page\", hue=\"language_preferred\", palette=\"Accent\");\n"
   ]
  },
  {
   "cell_type": "markdown",
   "id": "31352526-6580-4cf2-ad11-c03c0d02b35d",
   "metadata": {},
   "source": [
    "- *We can see from above catplot that `average time spent by users in the control group` for the different language users` are ` less than for all the languages than the one from `treatment group`.*\n",
    "  \n",
    "- *It is interesting to see the `average time spent by English users(4.5 mins approx)` was `less than Spanish users(4.9 mins approx) in control group` but they are `higher in treatment group(English user= 6.8 mins approx; Spanish=5.9 mins approx)`.<br>\n",
    "  Indicating English users found the new landing page more engaging and exciting. Same holds good for `French Users when compared with Spanish users`.*\n",
    "  \n"
   ]
  },
  {
   "cell_type": "markdown",
   "id": "27906576",
   "metadata": {
    "id": "27906576"
   },
   "source": [
    "## 1. Do the users spend more time on the new landing page than the existing landing page?"
   ]
  },
  {
   "cell_type": "markdown",
   "id": "e5fdf0c8",
   "metadata": {
    "id": "e5fdf0c8"
   },
   "source": [
    "### Perform Visual Analysis"
   ]
  },
  {
   "cell_type": "code",
   "execution_count": 3162,
   "id": "65793ceb-eb17-44e0-966e-d0190a87896b",
   "metadata": {},
   "outputs": [
    {
     "data": {
      "text/plain": [
       "landing_page\n",
       "new   6.223\n",
       "old   4.532\n",
       "Name: time_spent_on_the_page, dtype: float64"
      ]
     },
     "execution_count": 3162,
     "metadata": {},
     "output_type": "execute_result"
    }
   ],
   "source": [
    "df.groupby('landing_page')['time_spent_on_the_page'].mean()\n"
   ]
  },
  {
   "cell_type": "code",
   "execution_count": 3163,
   "id": "d09a3684-8ecb-412c-b954-95f817c49484",
   "metadata": {},
   "outputs": [
    {
     "data": {
      "text/html": [
       "<div>\n",
       "<style scoped>\n",
       "    .dataframe tbody tr th:only-of-type {\n",
       "        vertical-align: middle;\n",
       "    }\n",
       "\n",
       "    .dataframe tbody tr th {\n",
       "        vertical-align: top;\n",
       "    }\n",
       "\n",
       "    .dataframe thead th {\n",
       "        text-align: right;\n",
       "    }\n",
       "</style>\n",
       "<table border=\"1\" class=\"dataframe\">\n",
       "  <thead>\n",
       "    <tr style=\"text-align: right;\">\n",
       "      <th></th>\n",
       "      <th>count</th>\n",
       "      <th>mean</th>\n",
       "      <th>std</th>\n",
       "      <th>min</th>\n",
       "      <th>25%</th>\n",
       "      <th>50%</th>\n",
       "      <th>75%</th>\n",
       "      <th>max</th>\n",
       "    </tr>\n",
       "  </thead>\n",
       "  <tbody>\n",
       "    <tr>\n",
       "      <th>user_id</th>\n",
       "      <td>50.000</td>\n",
       "      <td>546467.500</td>\n",
       "      <td>14.577</td>\n",
       "      <td>546443.000</td>\n",
       "      <td>546455.250</td>\n",
       "      <td>546467.500</td>\n",
       "      <td>546479.750</td>\n",
       "      <td>546492.000</td>\n",
       "    </tr>\n",
       "    <tr>\n",
       "      <th>time_spent_on_the_page</th>\n",
       "      <td>50.000</td>\n",
       "      <td>6.223</td>\n",
       "      <td>1.817</td>\n",
       "      <td>1.650</td>\n",
       "      <td>5.175</td>\n",
       "      <td>6.105</td>\n",
       "      <td>7.160</td>\n",
       "      <td>10.710</td>\n",
       "    </tr>\n",
       "  </tbody>\n",
       "</table>\n",
       "</div>"
      ],
      "text/plain": [
       "                        count       mean    std        min        25%  \\\n",
       "user_id                50.000 546467.500 14.577 546443.000 546455.250   \n",
       "time_spent_on_the_page 50.000      6.223  1.817      1.650      5.175   \n",
       "\n",
       "                              50%        75%        max  \n",
       "user_id                546467.500 546479.750 546492.000  \n",
       "time_spent_on_the_page      6.105      7.160     10.710  "
      ]
     },
     "execution_count": 3163,
     "metadata": {},
     "output_type": "execute_result"
    }
   ],
   "source": [
    "cond=df['landing_page']=='new'\n",
    "df[cond].sort_values(by='time_spent_on_the_page',ascending=False).head(n=50).describe().T"
   ]
  },
  {
   "cell_type": "code",
   "execution_count": 3164,
   "id": "6eZJa41eg21n",
   "metadata": {
    "id": "6eZJa41eg21n"
   },
   "outputs": [
    {
     "data": {
      "image/png": "[encoded data removed]",
      "text/plain": [
       "<Figure size 1000x600 with 1 Axes>"
      ]
     },
     "metadata": {},
     "output_type": "display_data"
    }
   ],
   "source": [
    "#create plot for each group vs time spent\n",
    "plt.figure(figsize=(10,6))\n",
    "sns.boxplot(data=df,x='landing_page',y='time_spent_on_the_page',hue='landing_page',palette='BrBG',showmeans=True);"
   ]
  },
  {
   "cell_type": "markdown",
   "id": "ec5673d7-7556-4df6-bcc2-b4019f03b0b7",
   "metadata": {},
   "source": [
    "*From the above boxplot , we can say that,*\n",
    "\n",
    "- *On an `average` the customer `spends more time(meantime aprox 6.2 mins) on new landing page`, when compared to old landing page(meantime=4.5 mins).*\n",
    "  \n",
    "- *`Few Outliers` are present on new landing page on both lower(less than 2 min) and higher ends(above 10 mins).*\n",
    "  \n",
    "- *`50% of users` spent approx than 4.3 minutes on landing_page of old portal,compared to new landing page where they spend close to 6 minutes.*\n",
    "  \n",
    "- *minimum time spent by customers on new landing page is around 3 minutes whereas it's less than 1 mins on old landing page, which indicate the new landing page has more attractive features and engaging content*\n",
    "  "
   ]
  },
  {
   "cell_type": "markdown",
   "id": "56b3dafd",
   "metadata": {
    "id": "56b3dafd"
   },
   "source": [
    "### Step 1: Define the null and alternate hypotheses"
   ]
  },
  {
   "cell_type": "markdown",
   "id": "d2ac77ef",
   "metadata": {
    "id": "d2ac77ef"
   },
   "source": [
    "**null hypothesis:**<br>\n",
    "\n",
    "$H_0$:  user spends less or equal time on the new landing page than the existing landing page.\n",
    "\n",
    "**alternative hypothesis:**<br>\n",
    "\n",
    "$H_a$:  user spends more time on the new landing page than the existing landing page\n",
    "\n"
   ]
  },
  {
   "cell_type": "markdown",
   "id": "c7ee4907",
   "metadata": {
    "id": "c7ee4907"
   },
   "source": [
    "### Step 2: Select Appropriate test"
   ]
  },
  {
   "cell_type": "markdown",
   "id": "2c183cd7",
   "metadata": {
    "id": "2c183cd7"
   },
   "source": [
    "- *This is `two sample T test` concerning two population means from two independent populations with population standard deviation unknown(t test), \n",
    "also it's `one-tailed test`since the research question is about greater than and not on the equality.*"
   ]
  },
  {
   "cell_type": "markdown",
   "id": "3f58c9a7",
   "metadata": {
    "id": "3f58c9a7"
   },
   "source": [
    "### Step 3: Decide the significance level"
   ]
  },
  {
   "cell_type": "markdown",
   "id": "92d7d7ee",
   "metadata": {
    "id": "92d7d7ee"
   },
   "source": [
    "- *From the question, the significance level is given  $\\alpha = 0.05$.*\n"
   ]
  },
  {
   "cell_type": "markdown",
   "id": "5fed2eac",
   "metadata": {
    "id": "5fed2eac"
   },
   "source": [
    "### Step 4: Collect and prepare data"
   ]
  },
  {
   "cell_type": "markdown",
   "id": "ba5a12f6-361e-4b70-a5fa-510a67e817d4",
   "metadata": {},
   "source": [
    "Steps involved in performing 2 sample independent t test.\n",
    "\n",
    "`step1:` find the sample standard deviation and check if they are equal or not\n",
    "\n",
    "`step2:` extract the required column data from the dataframe\n",
    "\n",
    "`step3:` substitute the correct value for all the collected data in the given fn \n",
    "\n",
    "        [test_stats,p_value=ttest_ind(a,b,equal_var = False, alternative = 'greater')\n",
    "where,<br>\n",
    "`a and b` are column data from step 2; <br>\n",
    "`equal_var`  =False/True from the result of step 1 <br>\n",
    "`alternative`='greater','lesser',two-tailed' based on alternative test type<br>\n"
   ]
  },
  {
   "cell_type": "code",
   "execution_count": 3174,
   "id": "563c3ad5-c896-4981-b44f-e8a53039838a",
   "metadata": {},
   "outputs": [
    {
     "name": "stdout",
     "output_type": "stream",
     "text": [
      "Sample mean for old landing page is: 4.53\n",
      "Sample mean for new landing page is: 6.22\n",
      "Sample standard deviation for old landing page is: 2.58\n",
      "Sample standard deviation for new landing page is: 1.82\n"
     ]
    }
   ],
   "source": [
    "from scipy.stats import ttest_ind\n",
    "\n",
    "#Step1: find the sample means and sample standard deviations for the two samples populations\n",
    "\n",
    "landing_pg_means=df.groupby('landing_page')['time_spent_on_the_page'].mean()\n",
    "landing_pg_sd=df.groupby('landing_page')['time_spent_on_the_page'].std()\n",
    "\n",
    "#sample mean\n",
    "new_landing_pg_mean=landing_pg_means['new'] #new landing page sample mean\n",
    "old_landing_pg_mean=landing_pg_means['old'] #old landing page sample mean\n",
    "\n",
    "#sample standard deviation\n",
    "new_landing_pg_sd=landing_pg_sd['new'] #new landing page standard deviation\n",
    "old_landing_pg_sd=landing_pg_sd['old'] #old landing page standard deviation\n",
    "\n",
    "#print the results\n",
    "print('Sample mean for old landing page is:',round(old_landing_pg_mean,2))\n",
    "print('Sample mean for new landing page is:',round(new_landing_pg_mean,2))\n",
    "print('Sample standard deviation for old landing page is:',round(old_landing_pg_sd,2))\n",
    "print('Sample standard deviation for new landing page is:',round(new_landing_pg_sd,2))"
   ]
  },
  {
   "cell_type": "markdown",
   "id": "702e1f0f-309d-41fc-8378-8a01bcf67bc6",
   "metadata": {},
   "source": [
    "- *From the above result variance are not equal therefore equal_var=False*"
   ]
  },
  {
   "cell_type": "code",
   "execution_count": 3176,
   "id": "33271140-7e59-450c-8f4f-b9598d7d0148",
   "metadata": {},
   "outputs": [],
   "source": [
    "#timespent on old and new landing page\n",
    "time_spent_old_Landng_pg=df[df['landing_page']=='old']['time_spent_on_the_page']\n",
    "time_spent_new_Landng_pg=df[df['landing_page']=='new']['time_spent_on_the_page']\n"
   ]
  },
  {
   "cell_type": "markdown",
   "id": "f5c5258d",
   "metadata": {
    "id": "f5c5258d"
   },
   "source": [
    "### Step 5: Calculate the p-value"
   ]
  },
  {
   "cell_type": "code",
   "execution_count": 3178,
   "id": "fac8594a",
   "metadata": {
    "id": "fac8594a"
   },
   "outputs": [
    {
     "name": "stdout",
     "output_type": "stream",
     "text": [
      "3.7867702694199856 0.0001392381225166549\n"
     ]
    }
   ],
   "source": [
    "#calculate test_stats and p_value\n",
    "test_stats,p_value=ttest_ind(time_spent_new_Landng_pg,time_spent_old_Landng_pg,equal_var = False, alternative = 'greater')\n",
    "print(test_stats,p_value)"
   ]
  },
  {
   "cell_type": "markdown",
   "id": "359b12f8",
   "metadata": {
    "id": "359b12f8"
   },
   "source": [
    "### Step 6: Compare the p-value with $\\alpha$"
   ]
  },
  {
   "cell_type": "code",
   "execution_count": 3180,
   "id": "7be47289",
   "metadata": {
    "id": "7be47289"
   },
   "outputs": [
    {
     "name": "stdout",
     "output_type": "stream",
     "text": [
      "As the p-value 0.0001392381225166549 is less than the level of significance, we reject the null hypothesis.\n"
     ]
    }
   ],
   "source": [
    "#since p_value (.000139)is less the .05\n",
    "\n",
    "# compare p_value with level of significance and print the conclusion based on p-value\n",
    "if p_value < 0.05:\n",
    "    print(f'As the p-value {p_value} is less than the level of significance, we reject the null hypothesis.')\n",
    "else:\n",
    "    print(f'As the p-value {p_value} is greater than the level of significance, we fail to reject the null hypothesis.')"
   ]
  },
  {
   "cell_type": "markdown",
   "id": "d9affc84",
   "metadata": {
    "id": "d9affc84"
   },
   "source": [
    "### Step 7:  Draw inference"
   ]
  },
  {
   "cell_type": "markdown",
   "id": "6b16dd4b",
   "metadata": {
    "id": "6b16dd4b"
   },
   "source": [
    "- *Since the `p-value i.e probability value is less than level of significance` **$\\alpha$*** =.05, *hence we have enough statistical evidence to `reject the Null hypothesis` and therefore can conclude that `users spend more time on the new landing page than the existing landing page`*. "
   ]
  },
  {
   "cell_type": "markdown",
   "id": "353e9d24",
   "metadata": {
    "id": "353e9d24"
   },
   "source": [
    "## 2. Is the conversion rate (the proportion of users who visit the landing page and get converted) for the new page greater than the conversion rate for the old page?"
   ]
  },
  {
   "cell_type": "markdown",
   "id": "f6e95b6b-2c86-4530-a9e5-b15182776389",
   "metadata": {
    "id": "b7f52898"
   },
   "source": [
    "### Perform Visual Analysis"
   ]
  },
  {
   "cell_type": "code",
   "execution_count": 3185,
   "id": "ee07085a-2ed1-4281-a803-51b499a32bcb",
   "metadata": {},
   "outputs": [
    {
     "data": {
      "image/png": "[encoded data removed]",
      "text/plain": [
       "<Figure size 600x800 with 1 Axes>"
      ]
     },
     "metadata": {},
     "output_type": "display_data"
    }
   ],
   "source": [
    "# create a crosstab and plot to compare the conversion rate for the new page and the conversion rate for the old page\n",
    "pd.crosstab(df['landing_page'],df['converted'],normalize='index').plot(kind=\"bar\", figsize=(6,8),stacked=False)\n",
    "plt.title('Barplot: Landing Page Vs conversion status')\n",
    "plt.legend()\n",
    "plt.show()"
   ]
  },
  {
   "cell_type": "markdown",
   "id": "9830579c-2069-4a41-af21-5d920c96e3b0",
   "metadata": {},
   "source": [
    "**Additional plot to display the counts for landing page vs conversion status**"
   ]
  },
  {
   "cell_type": "code",
   "execution_count": 3187,
   "id": "416ef17d-d175-4c2d-a5cf-1c8466443a0b",
   "metadata": {},
   "outputs": [
    {
     "data": {
      "image/png": "[encoded data removed]",
      "text/plain": [
       "<Figure size 1000x500 with 1 Axes>"
      ]
     },
     "metadata": {},
     "output_type": "display_data"
    }
   ],
   "source": [
    "#display the value counts for users who visits landing page(old and new) and get converted \n",
    "df_landng_pg_conv_all=df.groupby(['landing_page','converted'])['converted'].count()\n",
    "\n",
    "#unstack the multi-index dataframe\n",
    "df_landng_pg_conv_all_unstk=df_landng_pg_conv_all.unstack(level=1)\n",
    "\n",
    "#plot the graph\n",
    "df_landng_pg_conv_all_unstk.plot(kind='bar',figsize=(10,5),color=['green','orange'])\n",
    "\n",
    "plt.title('Barplot: Landing page vs conversion status')\n",
    "plt.xlabel('Landing page')\n",
    "plt.ylabel('Count')\n",
    "plt.xticks(rotation=0)\n",
    "plt.show()\n"
   ]
  },
  {
   "cell_type": "markdown",
   "id": "4f0c579a-bfe2-43a3-a481-8e157bae8bee",
   "metadata": {},
   "source": [
    "- *`Conversion rates` are `higher in new landing page` (around `66 percent`) when compared to `old page( 42 percent)` , indicating users found the new landing page more engaging and exciting than the old page*"
   ]
  },
  {
   "cell_type": "markdown",
   "id": "ff325b9c-e8db-40c4-abc0-21099f963331",
   "metadata": {},
   "source": [
    "### Step 1: Define the null and alternate hypotheses"
   ]
  },
  {
   "cell_type": "markdown",
   "id": "067ddc62-2dbc-43ba-b16b-4e48bf1b7c00",
   "metadata": {},
   "source": [
    "let p1 and p2 be the proportion of users converted after visiting the old and new landing page.\n",
    "\n",
    "**Null hypothesis:**\n",
    "\n",
    "$H_0$:  p1=p2\n",
    "\n",
    "**Alternate hypothesis:**\n",
    "\n",
    "$H_a$:  p2>p1"
   ]
  },
  {
   "cell_type": "markdown",
   "id": "594891b9-1169-4a3c-8819-33478f2e7e0d",
   "metadata": {
    "id": "b7f52898"
   },
   "source": [
    "### Step 2: Select Appropriate test"
   ]
  },
  {
   "cell_type": "markdown",
   "id": "7012f51e-7b56-4d7d-a02a-ceaa8e15fb01",
   "metadata": {},
   "source": [
    "- *This is a `one-tailed Two proportion Z-test` concerning two population proportions from two independent populations.* <br>\n",
    "\n",
    "`Let's test whether the `Z-test assumptions` are satisfied or not\n",
    "\n",
    "*   `Binomally distributed population` - Yes, users is either converted or not converted('yes'/'no').\n",
    "*   `Random sampling from the population` - Yes, it's mentioned the collected sample is a simple random sample.  \n",
    "*   Can the `binomial distribution` approximated to `normal distribution` - Yes. The standard thing is to check whether np and n(1-p) are greater than or      equal to 10. "
   ]
  },
  {
   "cell_type": "markdown",
   "id": "100ee170-cea8-48b8-9122-6406e067bd7e",
   "metadata": {
    "id": "b7f52898"
   },
   "source": [
    "### Step 3: Decide the significance level"
   ]
  },
  {
   "cell_type": "markdown",
   "id": "021bbb11-2ec0-4af9-888a-7355ef02e878",
   "metadata": {},
   "source": [
    "- *As given in the problem statement, we select $\\alpha = 0.05$.*"
   ]
  },
  {
   "cell_type": "markdown",
   "id": "aa088241-0d1d-4602-b268-68ad25e36b47",
   "metadata": {
    "id": "b7f52898"
   },
   "source": [
    "### Step 4: Collect and prepare data"
   ]
  },
  {
   "cell_type": "markdown",
   "id": "7075f86a-8228-4581-9dbf-31248b77e972",
   "metadata": {},
   "source": [
    "- *In this case the test statistic and p_value is calculated using the below function:*\n",
    "\n",
    "`proportions_ztest(count, nobs, value=None, alternative='two-sided')`\n",
    "\n",
    "where\n",
    "\n",
    "- `count`: the number of successes in nobs trials. Here it's `converted success count in both the groups 'treatment' and 'control'`\n",
    "- `nobs`: total number of trials or observations. Here it's the `total number of users in each groups ('treatment' and 'control')`.\n",
    "- `value`: This is the value of the null hypothesis equal to the proportion in the case of a one-sample test.\n",
    "  In the case of a two-sample test, the null hypothesis is that prop[0] - prop[1] = value, where prop is the proportion in the two samples. If not  provided value = 0 and the null is prop[0] = prop[1]. \n",
    " "
   ]
  },
  {
   "cell_type": "code",
   "execution_count": 3197,
   "id": "25eb867c-a09e-43f2-a576-dd199b156a03",
   "metadata": {},
   "outputs": [
    {
     "name": "stdout",
     "output_type": "stream",
     "text": [
      "count of users visiting old landing page and get converted 21\n",
      "count of users visiting new landing page and get converted 33\n"
     ]
    }
   ],
   "source": [
    "#get the count for converted users for old and new landing page\n",
    "df_landng_pg_conv_all=df.groupby(['landing_page','converted'])['converted'].count()\n",
    "\n",
    "converted_new_count=df_landng_pg_conv_all['new']['yes']  #converted user count for new landing page\n",
    "converted_old_count=df_landng_pg_conv_all['old']['yes']  #converted user count for old landing page\n",
    "\n",
    "#Print the counts converted users for old and new landing page\n",
    "print('count of users visiting old landing page and get converted',converted_old_count)\n",
    "print('count of users visiting new landing page and get converted',converted_new_count)"
   ]
  },
  {
   "cell_type": "code",
   "execution_count": 3198,
   "id": "dd4c3d38-1546-40a2-8d9e-7a87446c524f",
   "metadata": {},
   "outputs": [
    {
     "data": {
      "text/plain": [
       "array([33, 21], dtype=int64)"
      ]
     },
     "execution_count": 3198,
     "metadata": {},
     "output_type": "execute_result"
    }
   ],
   "source": [
    "#Create an array for converted user counts for new and old landing page\n",
    "converted_count_all=np.array([converted_new_count,converted_old_count])\n",
    "converted_count_all"
   ]
  },
  {
   "cell_type": "code",
   "execution_count": 3199,
   "id": "873f8240-97f9-4d0a-85c8-cbf95ec68cdd",
   "metadata": {},
   "outputs": [
    {
     "name": "stdout",
     "output_type": "stream",
     "text": [
      "The numbers of users served the new and old landing pages are 50 and 50 respectively\n",
      "[50 50]\n"
     ]
    }
   ],
   "source": [
    "#sample size for both the group 'treatment' and 'control'\n",
    "\n",
    "control_user_count = df.group.value_counts()['control'] # total number of users in the control group\n",
    "treatment_user_count = df.group.value_counts()['treatment'] # total number of users in the treatment group\n",
    "\n",
    "#print the total users count for both the group\n",
    "print('The numbers of users served the new and old landing pages are {0} and {1} respectively'.format(control_user_count, treatment_user_count ))\n",
    "\n",
    "#create an np array for both the users\n",
    "nobs=np.array([treatment_user_count,control_user_count])\n",
    "print(nobs)"
   ]
  },
  {
   "cell_type": "markdown",
   "id": "93c5cba2-d35d-4fd1-afd7-6ffec413db03",
   "metadata": {
    "id": "b7f52898"
   },
   "source": [
    "### Step 5: Calculate the p-value"
   ]
  },
  {
   "cell_type": "code",
   "execution_count": 3201,
   "id": "bdcf9a36-f732-4da6-93b6-7a466e99101b",
   "metadata": {},
   "outputs": [
    {
     "name": "stdout",
     "output_type": "stream",
     "text": [
      "The p-value is 0.008026308204056278\n"
     ]
    }
   ],
   "source": [
    "# import the required fuction\n",
    "from statsmodels.stats.proportion import proportions_ztest\n",
    "\n",
    "# find the p-value\n",
    "test_stat, p_value = proportions_ztest(converted_count_all, nobs,value=0,alternative = 'larger')\n",
    "print('The p-value is ' + str(p_value))"
   ]
  },
  {
   "cell_type": "markdown",
   "id": "7d2079a8-0a89-41f4-bdd5-74c6f480bbff",
   "metadata": {
    "id": "b7f52898"
   },
   "source": [
    "### Step 6: Compare the p-value with $\\alpha$"
   ]
  },
  {
   "cell_type": "code",
   "execution_count": 3203,
   "id": "bddb973c-ae23-495b-a075-a79f04b6c264",
   "metadata": {},
   "outputs": [
    {
     "name": "stdout",
     "output_type": "stream",
     "text": [
      "As the p-value 0.008026308204056278 is less than the level of significance, we reject the null hypothesis.\n"
     ]
    }
   ],
   "source": [
    "# print the conclusion based on p-value\n",
    "if p_value < 0.05:\n",
    "    print(f'As the p-value {p_value} is less than the level of significance, we reject the null hypothesis.')\n",
    "else:\n",
    "    print(f'As the p-value {p_value} is greater than the level of significance, we fail to reject the null hypothesis.')"
   ]
  },
  {
   "cell_type": "markdown",
   "id": "558f3d5c-38ff-4519-b2d4-75df349e89b6",
   "metadata": {
    "id": "b7f52898"
   },
   "source": [
    "### Step 7:  Draw inference"
   ]
  },
  {
   "cell_type": "markdown",
   "id": "62c9ee78-b557-4661-a423-373e19849583",
   "metadata": {},
   "source": [
    "- *Since the `p-value i.e probability value is less than level of significance`  **$\\alpha$** , hence we have enough statistical evidence to `reject the Null hypothesis` and therefore can conclude that `converion rate are higher for the new landing page when compared to old page`*.\n",
    "\n",
    "- *This is evident from both visual representation and also from statistical evidence.*"
   ]
  },
  {
   "cell_type": "markdown",
   "id": "d49bfa2d",
   "metadata": {
    "id": "d49bfa2d"
   },
   "source": [
    "## 3. Is the conversion and preferred language are independent or related?"
   ]
  },
  {
   "cell_type": "markdown",
   "id": "3ac05ce1-89d6-4e44-b9a6-fd84046426de",
   "metadata": {},
   "source": [
    "### Perform Visual Analysis"
   ]
  },
  {
   "cell_type": "code",
   "execution_count": 3208,
   "id": "244b0cad-a097-4593-b75c-4931a6df2765",
   "metadata": {},
   "outputs": [
    {
     "data": {
      "text/plain": [
       "converted  language_preferred\n",
       "no         English               11\n",
       "           French                19\n",
       "           Spanish               16\n",
       "yes        English               21\n",
       "           French                15\n",
       "           Spanish               18\n",
       "Name: language_preferred, dtype: int64"
      ]
     },
     "execution_count": 3208,
     "metadata": {},
     "output_type": "execute_result"
    }
   ],
   "source": [
    "#Plot#1 using groupby fn\n",
    "#Display the counts for converted/non-converted users for preferred languages\n",
    "df_converted_language_pref=df.groupby(['converted','language_preferred'])['language_preferred'].count()\n",
    "df_converted_language_pref"
   ]
  },
  {
   "cell_type": "code",
   "execution_count": 3209,
   "id": "df212ca3-353e-4935-a545-f59c4c72ccee",
   "metadata": {},
   "outputs": [
    {
     "data": {
      "image/png": "[encoded data removed]",
      "text/plain": [
       "<Figure size 1200x600 with 1 Axes>"
      ]
     },
     "metadata": {},
     "output_type": "display_data"
    }
   ],
   "source": [
    "# Unstack the multi-index DataFrame for plotting\n",
    "# Since df_converted_language_pref is a multi-index DataFrame, it needs to be unstacked to create separate bars for \"yes\" and \"no\" conversion statuses.\n",
    "df_converted_language_pref_plot = df_converted_language_pref.unstack(level=1)\n",
    "\n",
    "# Plot the graph to show the counts for language preferred in converted categories(yes/no) for unstacked DataFrame\n",
    "df_converted_language_pref_plot.plot(kind='bar', figsize=(12, 6), color=['green', 'orange','red'])\n",
    "\n",
    "# Add title, labels, and legend\n",
    "plt.title('Barplot: Language Preferred in Converted categories')\n",
    "plt.xlabel('Conversion Status')\n",
    "plt.ylabel('Count')\n",
    "plt.legend(['English', 'French','Spanish'], title='Preferred Language', loc='upper left', fontsize=10)\n",
    "\n",
    "# Adjust x-axis labels\n",
    "plt.xticks(rotation=0)\n",
    "plt.show()"
   ]
  },
  {
   "cell_type": "code",
   "execution_count": 3210,
   "id": "09ba505d-29f4-485a-a7e2-1defbb971753",
   "metadata": {},
   "outputs": [
    {
     "data": {
      "text/html": [
       "<div>\n",
       "<style scoped>\n",
       "    .dataframe tbody tr th:only-of-type {\n",
       "        vertical-align: middle;\n",
       "    }\n",
       "\n",
       "    .dataframe tbody tr th {\n",
       "        vertical-align: top;\n",
       "    }\n",
       "\n",
       "    .dataframe thead th {\n",
       "        text-align: right;\n",
       "    }\n",
       "</style>\n",
       "<table border=\"1\" class=\"dataframe\">\n",
       "  <thead>\n",
       "    <tr style=\"text-align: right;\">\n",
       "      <th>language_preferred</th>\n",
       "      <th>English</th>\n",
       "      <th>French</th>\n",
       "      <th>Spanish</th>\n",
       "    </tr>\n",
       "    <tr>\n",
       "      <th>converted</th>\n",
       "      <th></th>\n",
       "      <th></th>\n",
       "      <th></th>\n",
       "    </tr>\n",
       "  </thead>\n",
       "  <tbody>\n",
       "    <tr>\n",
       "      <th>no</th>\n",
       "      <td>11</td>\n",
       "      <td>19</td>\n",
       "      <td>16</td>\n",
       "    </tr>\n",
       "    <tr>\n",
       "      <th>yes</th>\n",
       "      <td>21</td>\n",
       "      <td>15</td>\n",
       "      <td>18</td>\n",
       "    </tr>\n",
       "  </tbody>\n",
       "</table>\n",
       "</div>"
      ],
      "text/plain": [
       "language_preferred  English  French  Spanish\n",
       "converted                                   \n",
       "no                       11      19       16\n",
       "yes                      21      15       18"
      ]
     },
     "execution_count": 3210,
     "metadata": {},
     "output_type": "execute_result"
    }
   ],
   "source": [
    "pd.crosstab(df['converted'],df['language_preferred'])"
   ]
  },
  {
   "cell_type": "code",
   "execution_count": 3211,
   "id": "3202f345-e42c-45ac-881d-39e15c4bee26",
   "metadata": {},
   "outputs": [
    {
     "data": {
      "image/png": "[encoded data removed]",
      "text/plain": [
       "<Figure size 600x500 with 1 Axes>"
      ]
     },
     "metadata": {},
     "output_type": "display_data"
    }
   ],
   "source": [
    "# Plot#2 using pd.crosstab fn\n",
    "# Plot to check if language preferred is dependent on the conversion rate\n",
    "pd.crosstab(df['converted'],df['language_preferred'],normalize='index').plot(kind=\"bar\", figsize=(6,5),stacked=True)\n",
    "plt.legend()\n",
    "plt.show()"
   ]
  },
  {
   "cell_type": "markdown",
   "id": "485ca05f-f259-4e57-be2f-679a6e4b2b96",
   "metadata": {},
   "source": [
    "From the above plot we can obeserve that,\n",
    "- *We can see a `significant increase` in number of users when the prefer language is `English` and a `very slight increase in users` who prefers `Spanish`*.\n",
    "- *There is `decline` in number of users whose prefer language is `French`.*\n",
    "- *We need to `perform further statistical analysis` to conclude whether converted status depend on the preferred language or not.*"
   ]
  },
  {
   "cell_type": "markdown",
   "id": "6e081169-fedc-4f24-ba20-9551db7803b6",
   "metadata": {},
   "source": [
    "### Step 1: Define the null and alternate hypotheses"
   ]
  },
  {
   "cell_type": "markdown",
   "id": "3f9b3173-4cad-4e14-8d3a-1b8b152ae814",
   "metadata": {},
   "source": [
    "\n",
    "**null hypothesis:**\n",
    "\n",
    "$H_0$:  Converted status is independent of the preferred language\n",
    "\n",
    "**alternate hypothesis:**\n",
    "\n",
    "$H_a$:  Converted status depends on the preferred language"
   ]
  },
  {
   "cell_type": "markdown",
   "id": "df5d173c-cb59-492a-90ef-30f3fa5b8cb5",
   "metadata": {},
   "source": [
    "### Step 2: Select Appropriate test"
   ]
  },
  {
   "cell_type": "markdown",
   "id": "02664a62-3564-47ce-aaef-01c9be4823ec",
   "metadata": {},
   "source": [
    "- *This is the case for `Chi-Square Test for Independence`.*\n",
    "\n",
    "**Let's test whether the assumptions are satisfied or not for Chi-Square Test for Independence.**\n",
    "\n",
    "* `Categorical variables` - Yes `(converted(yes/no) and language_preferred(English,French and Spanish)`\n",
    "* `Expected value of the number of sample observations` in each level of the variable is `at least 5` - Yes, the number of observations in each level is greater than 5.\n",
    "* `Random sampling` from the population - Yes, we are informed that the collected sample is a simple random sample."
   ]
  },
  {
   "cell_type": "markdown",
   "id": "f285c4e4-75c5-4473-a71e-2000b829b96c",
   "metadata": {},
   "source": [
    "### Step 3: Decide the significance level"
   ]
  },
  {
   "cell_type": "markdown",
   "id": "e93fea4f-f2ea-4c43-9604-061bc9372996",
   "metadata": {},
   "source": [
    "- *From the question, the significance level is given  $\\alpha = 0.05$.*"
   ]
  },
  {
   "cell_type": "markdown",
   "id": "384cd555-1b13-4e64-9559-be7f22b80313",
   "metadata": {},
   "source": [
    "### Step 4: Collect and prepare data"
   ]
  },
  {
   "cell_type": "code",
   "execution_count": 3220,
   "id": "452c3632-1f64-406e-8318-ad85ead590c0",
   "metadata": {},
   "outputs": [
    {
     "data": {
      "text/html": [
       "<div>\n",
       "<style scoped>\n",
       "    .dataframe tbody tr th:only-of-type {\n",
       "        vertical-align: middle;\n",
       "    }\n",
       "\n",
       "    .dataframe tbody tr th {\n",
       "        vertical-align: top;\n",
       "    }\n",
       "\n",
       "    .dataframe thead th {\n",
       "        text-align: right;\n",
       "    }\n",
       "</style>\n",
       "<table border=\"1\" class=\"dataframe\">\n",
       "  <thead>\n",
       "    <tr style=\"text-align: right;\">\n",
       "      <th>language_preferred</th>\n",
       "      <th>English</th>\n",
       "      <th>French</th>\n",
       "      <th>Spanish</th>\n",
       "    </tr>\n",
       "    <tr>\n",
       "      <th>converted</th>\n",
       "      <th></th>\n",
       "      <th></th>\n",
       "      <th></th>\n",
       "    </tr>\n",
       "  </thead>\n",
       "  <tbody>\n",
       "    <tr>\n",
       "      <th>no</th>\n",
       "      <td>11</td>\n",
       "      <td>19</td>\n",
       "      <td>16</td>\n",
       "    </tr>\n",
       "    <tr>\n",
       "      <th>yes</th>\n",
       "      <td>21</td>\n",
       "      <td>15</td>\n",
       "      <td>18</td>\n",
       "    </tr>\n",
       "  </tbody>\n",
       "</table>\n",
       "</div>"
      ],
      "text/plain": [
       "language_preferred  English  French  Spanish\n",
       "converted                                   \n",
       "no                       11      19       16\n",
       "yes                      21      15       18"
      ]
     },
     "execution_count": 3220,
     "metadata": {},
     "output_type": "execute_result"
    }
   ],
   "source": [
    "#create a contingency table (cross table) for converted and language_preferred columns\n",
    "contingency_table__for_converted_Lang_pref=pd.crosstab(df['converted'],df['language_preferred'])\n",
    "contingency_table__for_converted_Lang_pref"
   ]
  },
  {
   "cell_type": "markdown",
   "id": "e90edb57-005b-43b6-b4ec-31c3c6556ec9",
   "metadata": {},
   "source": [
    "### Step 5: Calculate the p-value"
   ]
  },
  {
   "cell_type": "code",
   "execution_count": 3222,
   "id": "4847301a-396f-446d-94cf-62f46780e0b1",
   "metadata": {},
   "outputs": [
    {
     "name": "stdout",
     "output_type": "stream",
     "text": [
      "The p-value is 0.21298887487543447\n",
      "The test statistic is 3.0930306905370837\n",
      "The degree of freedom is 2\n",
      "TThe expected frequencies is [[14.72 15.64 15.64]\n",
      " [17.28 18.36 18.36]]\n"
     ]
    }
   ],
   "source": [
    "# import the required function\n",
    "from scipy.stats import chi2_contingency\n",
    "\n",
    "# find the p-value\n",
    "chi, p_value, dof, expected = chi2_contingency(df_converted_vs_langpref)\n",
    "print('The p-value is', p_value)\n",
    "print('The test statistic is', chi)\n",
    "print('The degree of freedom is', dof)\n",
    "print('TThe expected frequencies is', expected)"
   ]
  },
  {
   "cell_type": "markdown",
   "id": "75786e0d-d7cf-4fbd-9224-a2bddeed23e6",
   "metadata": {},
   "source": [
    "### Step 6: Compare the p-value with $\\alpha$"
   ]
  },
  {
   "cell_type": "code",
   "execution_count": 3224,
   "id": "5f6c08ed-10ea-4deb-97bb-c50b45fef277",
   "metadata": {},
   "outputs": [
    {
     "name": "stdout",
     "output_type": "stream",
     "text": [
      "As the p-value 0.21298887487543447 is greater than the level of significance, we fail to reject the null hypothesis.\n"
     ]
    }
   ],
   "source": [
    "# print the conclusion based on p-value\n",
    "if p_value < 0.05:\n",
    "    print(f'As the p-value {p_value} is less than the level of significance, we reject the null hypothesis.')\n",
    "else:\n",
    "    print(f'As the p-value {p_value} is greater than the level of significance, we fail to reject the null hypothesis.')"
   ]
  },
  {
   "cell_type": "markdown",
   "id": "566b2335-aa47-4f78-9e6e-ae1907ac74df",
   "metadata": {},
   "source": [
    "### Step 7:  Draw inference"
   ]
  },
  {
   "cell_type": "markdown",
   "id": "4013fdba-393b-479e-9690-921b238d544e",
   "metadata": {},
   "source": [
    "- *Since the `p-value i.e probability value is greater than level of significance`  **$\\alpha$** =.05, hence we `fail to reject the Null hypothesis` and      therefore `we do not have enough statistical evidence to conclude that converted status depends on the preferred language`. i.e. Converted status is independent of the preferred language*.\n"
   ]
  },
  {
   "cell_type": "markdown",
   "id": "8d585a90",
   "metadata": {
    "id": "8d585a90"
   },
   "source": [
    "## 4. Is the time spent on the new page same for the different language users?"
   ]
  },
  {
   "cell_type": "markdown",
   "id": "8f1446d1-fc0d-4802-893a-fe945f9e6bac",
   "metadata": {},
   "source": [
    "### Perform Visual Analysis"
   ]
  },
  {
   "cell_type": "code",
   "execution_count": 3229,
   "id": "ca8452b1-381e-4891-aad8-fb2e0ad7884b",
   "metadata": {},
   "outputs": [],
   "source": [
    "#create a new DataFrame for users for using new landing page\n",
    "land_pg_new_cond=df['landing_page']=='new'\n",
    "df_land_pg_new=df[land_pg_new_cond]\n"
   ]
  },
  {
   "cell_type": "code",
   "execution_count": 3230,
   "id": "903f3c52-ecd5-419f-ad26-c6c38e86ca54",
   "metadata": {},
   "outputs": [
    {
     "data": {
      "image/png": "[encoded data removed]",
      "text/plain": [
       "<Figure size 800x800 with 1 Axes>"
      ]
     },
     "metadata": {},
     "output_type": "display_data"
    }
   ],
   "source": [
    "#boxplot to show time spent by different language users on new landing page\n",
    "plt.figure(figsize=(8,8))\n",
    "sns.boxplot(data=df[df['landing_page']=='new'], x='language_preferred', y='time_spent_on_the_page',hue='language_preferred',palette='BuPu',showmeans=True);\n",
    "plt.show()\n"
   ]
  },
  {
   "cell_type": "markdown",
   "id": "6a6178bb-f938-4bb4-a96a-b1300b049984",
   "metadata": {},
   "source": [
    "- *Average time spent by all the different language users are in the range from 6.6 - 5.8 mins which is comparatively similar* "
   ]
  },
  {
   "cell_type": "markdown",
   "id": "b02f5d4e-725a-4392-bf1e-4ae08ba79c89",
   "metadata": {},
   "source": [
    "### Step 1: Define the null and alternate hypotheses"
   ]
  },
  {
   "cell_type": "markdown",
   "id": "48067b2b-0f1a-41e2-924b-689f3c32c6d6",
   "metadata": {},
   "source": [
    "Let $\\mu_1, \\mu_2, \\mu_3$ be the means of English,French and Spanish different languages prefer by users respectively.\n",
    "\n",
    "**null hypothesis**\n",
    "\n",
    ">$H_0: \\mu_1 = \\mu_2 = \\mu_3$: The time spent on the new landing page by the different language users are same \n",
    "\n",
    "**alternative hypothesis**\n",
    "\n",
    ">$H_a: $ At least time spent on the new landing page by one language users is different from the rest."
   ]
  },
  {
   "cell_type": "markdown",
   "id": "a84b7d81-10bf-45bd-87ed-769121a1c039",
   "metadata": {},
   "source": [
    "### Step 2: Select Appropriate test"
   ]
  },
  {
   "cell_type": "markdown",
   "id": "1e840ee2-56cb-4236-ad69-f17b10d5e757",
   "metadata": {},
   "source": [
    "- *This is the case of `One-way Anova test`, concerning three population means.*\n",
    "\n",
    "Now, we need to check first the the normality and equality of variance assumptions. \n",
    "\n",
    "* For testing of `normality, Shapiro-Wilk’s test` is applied to the response variable.\n",
    "\n",
    "* For `equality of variance, Levene test` is applied to the response variable."
   ]
  },
  {
   "cell_type": "markdown",
   "id": "9ae670e2-adb9-4c09-91e2-edf191b2ff8b",
   "metadata": {},
   "source": [
    "**`Shapiro-Wilk’s test`**"
   ]
  },
  {
   "cell_type": "markdown",
   "id": "96c29082-4ec1-427f-8784-ddfaa672517e",
   "metadata": {},
   "source": [
    "lets formulate the null and alternative hypothesis for this,\n",
    "\n",
    "**null hypothesis:**\n",
    "\n",
    ">$H_0:$ time spent by different language users follows a normal distribution \n",
    "\n",
    "**alternative hypothesis:**\n",
    "\n",
    ">$H_a:$ time spent by different language users does not follow a normal distribution"
   ]
  },
  {
   "cell_type": "code",
   "execution_count": 3238,
   "id": "31007b9c-e476-4153-a757-967a5f19859a",
   "metadata": {},
   "outputs": [
    {
     "name": "stdout",
     "output_type": "stream",
     "text": [
      "The p-value is 0.8040040364746845\n"
     ]
    }
   ],
   "source": [
    "# Assumption 1: Normality\n",
    "# find the p-value\n",
    "w, p_value = stats.shapiro(df_land_pg_new['time_spent_on_the_page']) \n",
    "\n",
    "print('The p-value is', p_value)"
   ]
  },
  {
   "cell_type": "markdown",
   "id": "b5643fd1-c9d5-4584-9a9b-1b57d714b18a",
   "metadata": {},
   "source": [
    "*Since `p_value is greater than level of significance`, we `fail to reject the null hypothesis`, hence `we have enough statistical evidence` to conclude that the `time spent by different language users follows a normal distribution`.*"
   ]
  },
  {
   "cell_type": "markdown",
   "id": "a06c3d30-40a8-4b9d-9f76-08fe3657b1a7",
   "metadata": {},
   "source": [
    "**`Levene test`**"
   ]
  },
  {
   "cell_type": "markdown",
   "id": "98009a42-8d51-4bd9-92f0-cdf48b6f9d02",
   "metadata": {},
   "source": [
    "- *lets formulate the null and alternative hypothesis*\n",
    "\n",
    "**null hypothesis:**\n",
    "\n",
    ">$H_0:$ The population of all the groups have equal variance.\n",
    "\n",
    "**alternative hypothesis:**\n",
    "\n",
    ">$H_a:$ At least one of the population variances is different from the rest."
   ]
  },
  {
   "cell_type": "code",
   "execution_count": 3242,
   "id": "f4cf3404-86e6-4b87-8f3b-15b49515a14b",
   "metadata": {},
   "outputs": [
    {
     "name": "stdout",
     "output_type": "stream",
     "text": [
      "The p-value is 0.46711357711340173\n"
     ]
    }
   ],
   "source": [
    "#Assumption 2: Homogeneity of Variance\n",
    "#import the required function\n",
    "from scipy.stats import levene\n",
    "\n",
    "# calculate time spent by different languages (English,French and Spanish) users on new landing page\n",
    "time_spent_English = df_land_pg_new[df_land_pg_new['language_preferred']=='English']['time_spent_on_the_page'] # for English users\n",
    "time_spent_French = df_land_pg_new[df_land_pg_new['language_preferred']=='French']['time_spent_on_the_page']   # for French users\n",
    "time_spent_Spanish = df_land_pg_new[df_land_pg_new['language_preferred']=='Spanish']['time_spent_on_the_page']   # for Spanish users\n",
    "\n",
    "# find the p-value\n",
    "statistic, p_value = levene(time_spent_English,time_spent_French,time_spent_Spanish)\n",
    "\n",
    "#Display p_value\n",
    "print('The p-value is', p_value)"
   ]
  },
  {
   "cell_type": "markdown",
   "id": "674ca3e4-cb00-4cc0-af03-e75eabdc69ae",
   "metadata": {},
   "source": [
    "- *Since `p_value is greater than level of significance`, we `fail to reject the null hypothesis`, hence we have enough statistical evidence to conclude that the population of all the groups ( different language users on new landing page) have equal variance*."
   ]
  },
  {
   "cell_type": "markdown",
   "id": "c0156c6e-7489-4306-a977-f17dbd3bf71d",
   "metadata": {},
   "source": [
    "### Step 3: Decide the significance level"
   ]
  },
  {
   "cell_type": "markdown",
   "id": "a8902ba6-6b16-4eff-8a2d-1b95061eb21a",
   "metadata": {},
   "source": [
    "- *As given in the problem statement, we set α = 0.05.*"
   ]
  },
  {
   "cell_type": "markdown",
   "id": "54767733-b989-4248-9a79-8a578110d014",
   "metadata": {},
   "source": [
    "### Step 4: Collect and prepare data"
   ]
  },
  {
   "cell_type": "code",
   "execution_count": 3247,
   "id": "5b8aba45-57df-412a-a9b1-4edc41aabc1b",
   "metadata": {},
   "outputs": [
    {
     "name": "stdout",
     "output_type": "stream",
     "text": [
      "Total time spent by different language users are: language_preferred\n",
      "English   106.620\n",
      "French    105.340\n",
      "Spanish    99.200\n",
      "Name: time_spent_on_the_page, dtype: float64\n",
      "Average/mean time spent by different language users are: language_preferred\n",
      "English   6.664\n",
      "French    6.196\n",
      "Spanish   5.835\n",
      "Name: time_spent_on_the_page, dtype: float64\n"
     ]
    }
   ],
   "source": [
    "#Calculate total and average time spent by different language users\n",
    "tot_time_spent_OnNewPg_diff_lang_users=df[land_pg_new_cond].groupby('language_preferred')['time_spent_on_the_page'].sum()\n",
    "mean_time_spent_OnNewPg_diff_lang_users=df[land_pg_new_cond].groupby('language_preferred')['time_spent_on_the_page'].mean()\n",
    "\n",
    "#print the results\n",
    "print('Total time spent by different language users are:',tot_time_spent_OnNewPg_diff_lang_users)\n",
    "print('Average/mean time spent by different language users are:',mean_time_spent_OnNewPg_diff_lang_users)"
   ]
  },
  {
   "cell_type": "code",
   "execution_count": 3248,
   "id": "c8e6de78-d572-42a4-85de-651df99454c7",
   "metadata": {},
   "outputs": [],
   "source": [
    "# calculate time spent by different languages (English,French and Spanish) users on new landing page\n",
    "time_spent_English = df_land_pg_new[df_land_pg_new['language_preferred']=='English']['time_spent_on_the_page'] # for English users\n",
    "time_spent_French = df_land_pg_new[df_land_pg_new['language_preferred']=='French']['time_spent_on_the_page']   # for French users\n",
    "time_spent_Spanish = df_land_pg_new[df_land_pg_new['language_preferred']=='Spanish']['time_spent_on_the_page']   # for Spanish users\n"
   ]
  },
  {
   "cell_type": "markdown",
   "id": "2aae3ff7-0dee-407a-babe-3ebd75581798",
   "metadata": {},
   "source": [
    "### Step 5: Calculate the p-value"
   ]
  },
  {
   "cell_type": "code",
   "execution_count": 3250,
   "id": "39fb8977-0dd8-4975-bf42-2ba15a7d8c15",
   "metadata": {},
   "outputs": [
    {
     "name": "stdout",
     "output_type": "stream",
     "text": [
      "The p-value is 0.43204138694325955\n"
     ]
    }
   ],
   "source": [
    "#import the required function\n",
    "from scipy.stats import f_oneway\n",
    "\n",
    "# find the p-value\n",
    "statistic, p_value = f_oneway(time_spent_English,time_spent_French,time_spent_Spanish)\n",
    "\n",
    "#Display p_value\n",
    "print('The p-value is', p_value)"
   ]
  },
  {
   "cell_type": "markdown",
   "id": "e18ae844-0c40-411e-bd79-9e1ff949576f",
   "metadata": {},
   "source": [
    "### Step 6: Compare the p-value with $\\alpha$"
   ]
  },
  {
   "cell_type": "code",
   "execution_count": 3252,
   "id": "df3c716e-6bc1-4056-990b-188da3fd5088",
   "metadata": {},
   "outputs": [
    {
     "name": "stdout",
     "output_type": "stream",
     "text": [
      "As the p-value 0.43204138694325955 is greater than the level of significance, we fail to reject the null hypothesis.\n"
     ]
    }
   ],
   "source": [
    "# print the conclusion based on p-value\n",
    "if p_value < 0.05:\n",
    "    print(f'As the p-value {p_value} is less than the level of significance, we reject the null hypothesis.')\n",
    "else:\n",
    "    print(f'As the p-value {p_value} is greater than the level of significance, we fail to reject the null hypothesis.')"
   ]
  },
  {
   "cell_type": "markdown",
   "id": "5ab8040b-80a8-4c5f-84b6-0b009ed5e1c8",
   "metadata": {},
   "source": [
    "### Step 7:  Draw inference"
   ]
  },
  {
   "cell_type": "markdown",
   "id": "8b35d7ca-ff1a-40a4-9bc3-aee00a7abdc1",
   "metadata": {
    "id": "b422f395"
   },
   "source": [
    "- *Since the `p-value i.e probability value is greater than level of significance`  **$\\alpha$** =.05, hence we `fail to reject the Null hypothesis` and      therefore have `enough statistical evidence to conclude` that the `time spent on the new landing page by the different language users are same`*.\n"
   ]
  },
  {
   "cell_type": "markdown",
   "id": "3acbc947",
   "metadata": {
    "id": "3acbc947"
   },
   "source": [
    "## Conclusion and Business Recommendations"
   ]
  },
  {
   "cell_type": "markdown",
   "id": "85369447-ae42-4f6f-90a3-77eef9e55a64",
   "metadata": {},
   "source": [
    "**Insight:**\n",
    "\n",
    "`E-news Express is an online news portal`, aims to expand its business by acquiring new subscribers. They provide faster access to the high-quality engaging content utilizing different technologies such as audio, graphics, video, and other interactive elements.\n",
    "\n",
    "The dataset we have analyzed here consists of `100 randomly selected users` containg informations about `user id`, `two groups (control and treatment)` ,`time spent on page (in minutes)` on `landing page (old/new)` by `different language users (English,French and Spanish)` and their `conversion status(Yes/No)`. The users are divided equally into 2 groups. The `existing landing page` was introduced to `first group (control)` while  `second group (treatment)` served the `new landing page`. \n",
    "\n",
    "We have perform both `data analysis`(Exploratory Data Analysis ) and `statistical analysis(Hypothesis testing)` to understand the interaction of users in both the groups with the two versions of the landing page.\n",
    "\n",
    "- *Below are the conclusions and recommendation from our analysis*."
   ]
  },
  {
   "cell_type": "markdown",
   "id": "f053cc4e-a38a-4426-9829-93698b49e88d",
   "metadata": {},
   "source": [
    "### Conclusions:"
   ]
  },
  {
   "cell_type": "markdown",
   "id": "a27dcef7-e2f7-4d76-8b20-519d1b9c63a1",
   "metadata": {},
   "source": [
    "*From the sample dataset of Enews Express, we were able to conclude that,*\n",
    "\n",
    "- *On an `average` the users `spends more time(approx 6.2 mins) on new landing page`, than on the `existing old landing page(approx 4.5 mins)`, which also accounts for `50% of users`, indicating the new features and exciting contents on new landing page are engaging and attracting users.*\n",
    "  \n",
    "- *`Minimum time` spent by customers on `new landing page` is around `3 minutes` whereas it's `less than a minute on old landing page`, suggesting users are bored of existing landing page structures and are looking for additional sections and engaging contents.*\n",
    "   \n",
    "- *There is enough statistical evidence (p-value of 0.008 at 5% level of significance) to conclude  that `converion rate are higher for the new landing page when compared to old page`*.\n",
    "  \n",
    "- *`Conversion rates` are `higher in new landing page` (around `66 percent`) when compared to `old page( 42 percent)` , indicating users are appreciating the new changes and additional features on new landing page and subscribing to the portal*.\n",
    "  \n",
    "- *We do see a `significant increase` in English users and a `very slight increase in Spanish users`, but these subscription numbers are declined for the `French` users.*\n",
    "-  *`Further statistical analysis`, reveal that there is `not enough statistical evidence (p-value of 0.21(greater than) at 5% level of significance)` to conclude that converted status depends on the preferred language`.*\n",
    "  \n",
    "-  *The portal provides 3 different languages `Spanish,French and English` to it's users for browsing contents on the portal*.\n",
    "  \n",
    "-  *`Average time spent` by all the different language users are comparatively same on the new landing page. With `English users(6.6 mins)` leading, followed  by `French(6.12 mins)` and `Spanish(5.8 mins)`users.*\n",
    " \n",
    "- *There is ` enough statistical evidence (p-value of 0.43(greater than) at 5% level of significance)` to conclude that the time spent on the new landing page by the different language users are same.*\n",
    "\n",
    "\n"
   ]
  },
  {
   "cell_type": "markdown",
   "id": "2c80ca35-3682-4840-8f52-24e74c4b392b",
   "metadata": {},
   "source": [
    "### Recommendations:"
   ]
  },
  {
   "cell_type": "markdown",
   "id": "7499c176-2ed4-4b05-8b01-8ee5c6362bba",
   "metadata": {},
   "source": [
    "Below are the recommendation to the business :\n",
    "\n",
    "- *We have noticed that `conversion rate is higher for the new landing page ` when compared to existing page, thus E-news Express `should roll out these new features to all users`, which can help them in to bring in `more subscribers, increase business, and boost company revenue`.*\n",
    "\n",
    "- *We have observed if a `user spent more on time on landing page`,it usually means they find the content and features engaging and are `more likely to subscribe`. So by `adding high-value engaging content`, access to `premium content on discounted price` for brief moment of time can retain and attract more users.*\n",
    "\n",
    "- *User sometimes want a `break from reading articles` so by `adding interactive sections like games, puzzles, crosswords, or quizzes` is better way of keeping them engaged.*  \n",
    "  \n",
    "- *We have also noticed in the `increase in subscriptions for English user on new page` but they have dropped for French users . Is it the less localized content offered or issue faced while accessing the additional content or  the look & feel of new page? though there is not much statistical evidence that language preference influence the subscriptions behavior, but we should analyze additional data further to retain the old users for future purpose.*  \n",
    "\n",
    "- *By `offering free trials or limited-time access to premium content for new users`, so they can experience its benefits before subscribing can help company in getting more customers.*\n"
   ]
  },
  {
   "cell_type": "code",
   "execution_count": null,
   "id": "05887d29-7ae5-40dc-9008-b33496913406",
   "metadata": {},
   "outputs": [],
   "source": []
  }
 ],
 "metadata": {
  "colab": {
   "collapsed_sections": [
    "6970dd99",
    "9d75cfa2",
    "68f3b2c9",
    "fad2de2f",
    "27906576",
    "e5fdf0c8",
    "56b3dafd",
    "c7ee4907",
    "3f58c9a7",
    "5fed2eac",
    "f5c5258d",
    "359b12f8",
    "d9affc84",
    "353e9d24",
    "d49bfa2d",
    "8d585a90",
    "3acbc947"
   ],
   "provenance": []
  },
  "kernelspec": {
   "display_name": "Python 3 (ipykernel)",
   "language": "python",
   "name": "python3"
  },
  "language_info": {
   "codemirror_mode": {
    "name": "ipython",
    "version": 3
   },
   "file_extension": ".py",
   "mimetype": "text/x-python",
   "name": "python",
   "nbconvert_exporter": "python",
   "pygments_lexer": "ipython3",
   "version": "3.12.7"
  }
 },
 "nbformat": 4,
 "nbformat_minor": 5
}
